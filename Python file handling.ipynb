{
 "cells": [
  {
   "cell_type": "code",
   "execution_count": 12,
   "id": "41c46693-684d-49d3-ab7e-3111ba7f7283",
   "metadata": {},
   "outputs": [
    {
     "ename": "SyntaxError",
     "evalue": "cannot assign to literal here. Maybe you meant '==' instead of '='? (4138413109.py, line 20)",
     "output_type": "error",
     "traceback": [
      "\u001b[1;36m  Cell \u001b[1;32mIn[12], line 20\u001b[1;36m\u001b[0m\n\u001b[1;33m    \"Demofile.txt\" = \"hi lalitha\"\u001b[0m\n\u001b[1;37m    ^\u001b[0m\n\u001b[1;31mSyntaxError\u001b[0m\u001b[1;31m:\u001b[0m cannot assign to literal here. Maybe you meant '==' instead of '='?\n"
     ]
    }
   ],
   "source": [
    "# file handling ... an important part of any web applications\n",
    "'''\n",
    "there are many functions in python for creating, writing, updating and deleting a file in python\n",
    "open()method is key\n",
    "open() function has 2 parameters .... filename and mode\n",
    "there are sevreal modes\n",
    "r ..... read mode... [default]   opens a file for reading. gives error if the file doesnt exist\n",
    "a......append mode.... appends a file. creates a file if doesn't exist\n",
    "w......write mode.....opens a file for writing and creates one if not exists\n",
    "x.....create mode.....creates a file.. gives error if the same file exists\n",
    "\n",
    "other modes:\n",
    "t..... text mode.... default\n",
    "b.....binary mode....images\n",
    "\n",
    "to open a file just specify the name\n",
    "\n",
    "'''\n",
    "\n",
    "\"Demofile.txt\" = \"hi lalitha\"\n",
    "x= open(\"Demofile.txt\", \"rt\")\n",
    "print(x.read())\n",
    "\n",
    "'''\n",
    "# read() method to read the contents of the file.. \n",
    "default .... reads the whole text\n",
    "'''\n",
    "\n",
    "# Return the 5 first characters of the file:\n",
    "x= open(\"Demofile.txt\", \"rt\")\n",
    "print(x.read(5))\n",
    "\n"
   ]
  },
  {
   "cell_type": "code",
   "execution_count": null,
   "id": "9c555ba2-5137-4929-b11c-d830ec537a5c",
   "metadata": {},
   "outputs": [],
   "source": [
    "# to read one line of the file use readline() method\n",
    "x = open(\"demofile.txt\", \"rt\")\n",
    "print(x. readline())\n",
    "\n",
    "# to read 2 lines\n",
    "x = open(\"demofile.txt\", \"rt\")\n",
    "print(x. readline())\n",
    "print(x. readline())\n",
    "\n",
    "# to loop through the file one by one\n",
    "x= open(\"demofile.txt\", \"r\")\n",
    "for z in x:\n",
    "    print(z)\n",
    "\n",
    "# It is a good practice to always close the file when you are done with it.\n",
    "# close the file when you are done \n",
    "x= open(\"demofile.txt\", \"r\")\n",
    "print(x. readline())\n",
    "x.close()"
   ]
  },
  {
   "cell_type": "code",
   "execution_count": null,
   "id": "a5ee8647-b492-4d08-bc23-3f2c55ae3de0",
   "metadata": {},
   "outputs": [],
   "source": [
    "# PYTHON WRITE    write to an existing file\n",
    "\"\"\"\n",
    "a.... append to the existing file\n",
    "w ... overwrites the existing file\n",
    "\"\"\"\n",
    "\n",
    "# Open the file \"demofile2.txt\" and append content to the file:\n",
    "x = open(\"demofile2.txt\", \"a\")\n",
    "x.write(\"appended content\")\n",
    "x.close()\n",
    "\n",
    "# open and read the file after appending\n",
    "x= open(\"demofile2.txt\", \"r\")\n",
    "print(x. read())\n",
    "x.close()\n",
    "\n",
    "# Create a new file called \"myfile.txt\":\n",
    "\n",
    "y= open(\"myfile.txt\", \"x\")\n",
    "\n",
    "\n",
    "# create a new file if it doesnot exist\n",
    "y= open(\"myfile.txt\", \"w\")"
   ]
  },
  {
   "cell_type": "code",
   "execution_count": null,
   "id": "7df75853-d058-435d-a1e2-8e9d830fb0e2",
   "metadata": {},
   "outputs": [],
   "source": [
    "# python delete file:\n",
    "\n",
    "to delete a file we have to import the os module and run os.remove() method\n",
    "\n",
    "# remove \"demofile.txt\" file\n",
    "import os\n",
    "os.remove(\"demofile.txt\")\n",
    "\n",
    "# check if \"demofile.txt\" exists before deleting to avoid errors\n",
    "\n",
    "import os\n",
    "if os.path.exists(\"demofile.txt\"):\n",
    "    os.remove(\"demofile.txt\")\n",
    "else:\n",
    "    print(\"not exists\")\n",
    "\n",
    "# to delete an entire folder use os.rmdir() method  .... it deletes only empty folder\n",
    "\n",
    "# delete a folder named \"goodwill\"\n",
    "import os\n",
    "os.rmdir(\"goodwill\")\n"
   ]
  },
  {
   "cell_type": "code",
   "execution_count": null,
   "id": "ece2e809-1ad8-45b3-8be7-202c276483a9",
   "metadata": {},
   "outputs": [],
   "source": [
    "# python functions:\n",
    "\"\"\"\n",
    "function is a block of code which only runs when iyt is called.\n",
    "u can pass data known as parameters / arguments into a function\n",
    "functions returns data as a result\n",
    "\n",
    "parameters/ arguments.... same\n",
    "from python perspective,\n",
    "parameter is a VARIABLE insibe the paranthesis of the function\n",
    "arguments is a VALUE inside the function when it is called\n",
    "\"\"\""
   ]
  },
  {
   "cell_type": "code",
   "execution_count": 15,
   "id": "5e3908d0-1789-45e7-a291-739fcdd3bd4f",
   "metadata": {},
   "outputs": [
    {
     "name": "stdout",
     "output_type": "stream",
     "text": [
      "my name islalitha\n"
     ]
    }
   ],
   "source": [
    "def myfunction(fname):\n",
    "    print(\"my name is\"+ fname)\n",
    "myfunction (\"lalitha\")"
   ]
  },
  {
   "cell_type": "code",
   "execution_count": 17,
   "id": "2c9bde19-e687-4a63-b1f7-f81ac3d59b59",
   "metadata": {},
   "outputs": [
    {
     "name": "stdout",
     "output_type": "stream",
     "text": [
      "lalitha madhuri\n",
      "geetha madhuri\n"
     ]
    }
   ],
   "source": [
    "# arguments: information passed into the function\n",
    "def myfunction(fname):\n",
    "    print(fname + \" \" + \"madhuri\")\n",
    "myfunction(\"lalitha\")\n",
    "myfunction(\"geetha\")"
   ]
  },
  {
   "cell_type": "code",
   "execution_count": 18,
   "id": "78f39739-7344-4547-b848-c838062ef711",
   "metadata": {},
   "outputs": [
    {
     "name": "stdout",
     "output_type": "stream",
     "text": [
      " i love the taste ofcherry\n"
     ]
    }
   ],
   "source": [
    "# arbitrary arguments: dont know the no of args passed into the function add * before the variable name... *args\n",
    "def myfunction(*fruits):                      # tuple of args passed into a function\n",
    "    print(\" i love the taste of\" + fruits[2])\n",
    "myfunction(\"apple\",\"banana\", \"cherry\")"
   ]
  },
  {
   "cell_type": "code",
   "execution_count": 19,
   "id": "bd606742-66b9-4df1-bb62-f79b85a8a4c0",
   "metadata": {},
   "outputs": [
    {
     "name": "stdout",
     "output_type": "stream",
     "text": [
      "my favourite is doni\n"
     ]
    }
   ],
   "source": [
    " # keyword arguments: we can send arguments in a key value syntax, the order doesnot matter  ...   kwargs\n",
    "def myfunction(kid2,kid1,kid3):\n",
    "    print(\"my favourite is\" + \" \" + kid3)\n",
    "myfunction(kid1= \"lalli\", kid2= \"roy\",kid3= \"doni\")"
   ]
  },
  {
   "cell_type": "code",
   "execution_count": 22,
   "id": "be2e813b-8666-416d-b31c-ee3dd3217def",
   "metadata": {},
   "outputs": [
    {
     "name": "stdout",
     "output_type": "stream",
     "text": [
      "my favourite islalli\n"
     ]
    }
   ],
   "source": [
    "# arbritray keyword arguments: **kwargs  dont know the no of \n",
    "def myfunction(**child):\n",
    "    print(\"my favourite is\" + child[\"fname\"])\n",
    "myfunction( fname = \"lalli\", lname = \"roy\")\n"
   ]
  },
  {
   "cell_type": "code",
   "execution_count": 23,
   "id": "128eb057-720c-4db6-ba09-71912807f7fe",
   "metadata": {},
   "outputs": [
    {
     "name": "stdout",
     "output_type": "stream",
     "text": [
      "i love mysweden\n",
      "i love myindia\n"
     ]
    }
   ],
   "source": [
    "# default parameter value: if we call without parameter name it uses default value\n",
    "\n",
    "def myfunction(country= \"india\"):\n",
    "    print(\"i love my\" + country)\n",
    "myfunction(\"sweden\")\n",
    "myfunction()"
   ]
  },
  {
   "cell_type": "code",
   "execution_count": 25,
   "id": "618225fe-d306-44dd-86d4-687e84c468a4",
   "metadata": {},
   "outputs": [
    {
     "name": "stdout",
     "output_type": "stream",
     "text": [
      "apple\n",
      "banana\n"
     ]
    }
   ],
   "source": [
    "# passing a list as an argument:\n",
    "fruits= [\"apple\", \"banana\"]\n",
    "def myfunction(x):\n",
    "    for x in fruits:\n",
    "        print(x)\n",
    "myfunction(fruits)"
   ]
  },
  {
   "cell_type": "code",
   "execution_count": 28,
   "id": "14b21602-691a-49bd-ab09-c419b1661521",
   "metadata": {},
   "outputs": [
    {
     "name": "stdout",
     "output_type": "stream",
     "text": [
      "30\n",
      "42\n"
     ]
    }
   ],
   "source": [
    "# return : to let a function return a value use return statement\n",
    "def myfunction(x):\n",
    "    return 6 * x\n",
    "print(myfunction(5))\n",
    "print(myfunction(7))"
   ]
  },
  {
   "cell_type": "code",
   "execution_count": 29,
   "id": "c9fdebd1-0103-429f-8696-ce182b350cab",
   "metadata": {},
   "outputs": [],
   "source": [
    "# pass:\n",
    "def myfunction(x):\n",
    "    pass"
   ]
  },
  {
   "cell_type": "code",
   "execution_count": 30,
   "id": "eafd312e-96fa-45c6-b3ad-f02ebec692a2",
   "metadata": {},
   "outputs": [
    {
     "name": "stdout",
     "output_type": "stream",
     "text": [
      "3\n"
     ]
    }
   ],
   "source": [
    "# positional only arguments:   add ,/ after argument name\n",
    "def myfunction(x,/):\n",
    "    print(x)\n",
    "myfunction(3)"
   ]
  },
  {
   "cell_type": "code",
   "execution_count": 31,
   "id": "832bb550-56bb-4f71-ac2b-3349f533889d",
   "metadata": {},
   "outputs": [
    {
     "name": "stdout",
     "output_type": "stream",
     "text": [
      "5\n"
     ]
    }
   ],
   "source": [
    "# keyword arguments: add *, before argument name\n",
    "def myfunction(*,x):\n",
    "    print(x)\n",
    "myfunction(x= 5)"
   ]
  },
  {
   "cell_type": "code",
   "execution_count": 32,
   "id": "6722269b-f5ec-44ed-b3e7-e13214b2329b",
   "metadata": {},
   "outputs": [
    {
     "ename": "TypeError",
     "evalue": "myfunction() takes 0 positional arguments but 1 was given",
     "output_type": "error",
     "traceback": [
      "\u001b[1;31m---------------------------------------------------------------------------\u001b[0m",
      "\u001b[1;31mTypeError\u001b[0m                                 Traceback (most recent call last)",
      "Cell \u001b[1;32mIn[32], line 3\u001b[0m\n\u001b[0;32m      1\u001b[0m \u001b[38;5;28;01mdef\u001b[39;00m \u001b[38;5;21mmyfunction\u001b[39m(\u001b[38;5;241m*\u001b[39m,x):\n\u001b[0;32m      2\u001b[0m     \u001b[38;5;28mprint\u001b[39m(x)\n\u001b[1;32m----> 3\u001b[0m myfunction(\u001b[38;5;241m3\u001b[39m)\n",
      "\u001b[1;31mTypeError\u001b[0m: myfunction() takes 0 positional arguments but 1 was given"
     ]
    }
   ],
   "source": [
    "def myfunction(*,x):\n",
    "    print(x)\n",
    "myfunction(3)"
   ]
  },
  {
   "cell_type": "code",
   "execution_count": 33,
   "id": "cb0af3da-be98-4244-a265-fbe3c2447363",
   "metadata": {},
   "outputs": [
    {
     "ename": "TypeError",
     "evalue": "myfunction() got some positional-only arguments passed as keyword arguments: 'x'",
     "output_type": "error",
     "traceback": [
      "\u001b[1;31m---------------------------------------------------------------------------\u001b[0m",
      "\u001b[1;31mTypeError\u001b[0m                                 Traceback (most recent call last)",
      "Cell \u001b[1;32mIn[33], line 3\u001b[0m\n\u001b[0;32m      1\u001b[0m \u001b[38;5;28;01mdef\u001b[39;00m \u001b[38;5;21mmyfunction\u001b[39m(x,\u001b[38;5;241m/\u001b[39m):\n\u001b[0;32m      2\u001b[0m     \u001b[38;5;28mprint\u001b[39m(x)\n\u001b[1;32m----> 3\u001b[0m myfunction(x\u001b[38;5;241m=\u001b[39m\u001b[38;5;241m6\u001b[39m)\n",
      "\u001b[1;31mTypeError\u001b[0m: myfunction() got some positional-only arguments passed as keyword arguments: 'x'"
     ]
    }
   ],
   "source": [
    "def myfunction(x,/):\n",
    "    print(x)\n",
    "myfunction(x=6)"
   ]
  },
  {
   "cell_type": "code",
   "execution_count": 34,
   "id": "4d1515a2-fcb3-4232-aed0-b95f043e1a58",
   "metadata": {},
   "outputs": [
    {
     "name": "stdout",
     "output_type": "stream",
     "text": [
      "6\n"
     ]
    }
   ],
   "source": [
    "def myfunction(x):\n",
    "    print(x)\n",
    "myfunction(x=6)"
   ]
  },
  {
   "cell_type": "code",
   "execution_count": 40,
   "id": "39690539-e7dd-4772-822c-1c67a52942d4",
   "metadata": {},
   "outputs": [
    {
     "name": "stdout",
     "output_type": "stream",
     "text": [
      "22\n"
     ]
    }
   ],
   "source": [
    "# combine both positional only argument ,/ and keyword only argument *,\n",
    "def myfunction(a, x,/,*,y,z):\n",
    "    print(a+x+y+z)\n",
    "myfunction(7,8,y= 5,z= 2)"
   ]
  },
  {
   "cell_type": "code",
   "execution_count": 39,
   "id": "d44e0844-fbb5-413e-9aa9-a31e20e0de1b",
   "metadata": {},
   "outputs": [
    {
     "name": "stdout",
     "output_type": "stream",
     "text": [
      "26\n"
     ]
    }
   ],
   "source": [
    "\n",
    "def my_function(a, b, /, *, c, d):\n",
    "  print(a + b + c + d)\n",
    "\n",
    "my_function(5, 6, c = 7, d = 8)"
   ]
  },
  {
   "cell_type": "code",
   "execution_count": 1,
   "id": "2250845c-abe5-4330-a88b-1691fdfe93f1",
   "metadata": {},
   "outputs": [
    {
     "name": "stdout",
     "output_type": "stream",
     "text": [
      "0 11\n",
      "1 22\n",
      "2 33\n",
      "3 44\n",
      "4 55\n"
     ]
    }
   ],
   "source": [
    "lst= [11,22,33,44,55]\n",
    "for x,y in enumerate(lst):\n",
    "    print(x,y)"
   ]
  },
  {
   "cell_type": "code",
   "execution_count": 4,
   "id": "73997f9b-e2b1-48e3-984c-7c5adb1302a8",
   "metadata": {},
   "outputs": [
    {
     "name": "stdout",
     "output_type": "stream",
     "text": [
      "0 has the value of 11\n",
      "1 has the value of 22\n",
      "2 has the value of 33\n",
      "3 has the value of 44\n",
      "4 has the value of 55\n"
     ]
    }
   ],
   "source": [
    "# enumerate is a buit in python function:>>>..... to assign index number to the value\n",
    "lst= [11,22,33,44,55]\n",
    "for x,y in enumerate(lst):\n",
    "    print(f\"{x} has the value of {y}\")"
   ]
  },
  {
   "cell_type": "code",
   "execution_count": null,
   "id": "d1a83e54-6373-4b21-9110-923324266d5e",
   "metadata": {},
   "outputs": [],
   "source": []
  }
 ],
 "metadata": {
  "kernelspec": {
   "display_name": "Python 3 (ipykernel)",
   "language": "python",
   "name": "python3"
  },
  "language_info": {
   "codemirror_mode": {
    "name": "ipython",
    "version": 3
   },
   "file_extension": ".py",
   "mimetype": "text/x-python",
   "name": "python",
   "nbconvert_exporter": "python",
   "pygments_lexer": "ipython3",
   "version": "3.12.7"
  }
 },
 "nbformat": 4,
 "nbformat_minor": 5
}
