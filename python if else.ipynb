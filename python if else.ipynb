{
 "cells": [
  {
   "cell_type": "code",
   "execution_count": 1,
   "id": "118910d2-c7bb-4652-a918-5eef20509174",
   "metadata": {},
   "outputs": [
    {
     "name": "stdout",
     "output_type": "stream",
     "text": [
      "yes\n"
     ]
    }
   ],
   "source": [
    "x= 56\n",
    "y= 78\n",
    "if x> 50:\n",
    "    print(\"yes\")"
   ]
  },
  {
   "cell_type": "code",
   "execution_count": 2,
   "id": "f1176ddb-cdd6-42e5-bc6f-4d1703951458",
   "metadata": {},
   "outputs": [
    {
     "name": "stdout",
     "output_type": "stream",
     "text": [
      "yes\n"
     ]
    }
   ],
   "source": [
    "if x> 50: print(\"yes\")                # ternary operations/ conditional expressions"
   ]
  },
  {
   "cell_type": "code",
   "execution_count": 4,
   "id": "647475fc-b074-42a3-8af3-d5a0ee2c65d2",
   "metadata": {},
   "outputs": [
    {
     "name": "stdout",
     "output_type": "stream",
     "text": [
      "yes correct\n",
      "absolutely\n"
     ]
    }
   ],
   "source": [
    "if x> 40:\n",
    "    print(\"yes correct\")               # nested if statement\n",
    "    if x> 50:\n",
    "        print (\"absolutely\")\n",
    "else:\n",
    "    print(\"nope\")"
   ]
  },
  {
   "cell_type": "code",
   "execution_count": 6,
   "id": "7eedc39c-a27e-41ab-92cb-0013816ba56a",
   "metadata": {},
   "outputs": [
    {
     "name": "stdout",
     "output_type": "stream",
     "text": [
      "one of the condition is true\n"
     ]
    }
   ],
   "source": [
    "x= 56\n",
    "y= 78\n",
    "if x>y or y>x:\n",
    "    print(\"one of the condition is true\")"
   ]
  },
  {
   "cell_type": "code",
   "execution_count": 7,
   "id": "47167e42-e410-45a1-b4c6-5d726f8bdc1f",
   "metadata": {},
   "outputs": [
    {
     "name": "stdout",
     "output_type": "stream",
     "text": [
      "yeah\n"
     ]
    }
   ],
   "source": [
    "if not x>y:\n",
    "    print(\"yeah\")"
   ]
  },
  {
   "cell_type": "code",
   "execution_count": 9,
   "id": "9b64ba55-f7da-4b5c-90f5-77bf8a5ea285",
   "metadata": {},
   "outputs": [
    {
     "name": "stdout",
     "output_type": "stream",
     "text": [
      "yup\n"
     ]
    }
   ],
   "source": [
    "x= 56\n",
    "y= 78\n",
    "z= 89\n",
    "if x>y:\n",
    "    print(\"no\")\n",
    "elif x==y:\n",
    "    print(\"butty\")\n",
    "else:\n",
    "    print(\"yup\")\n",
    "    "
   ]
  },
  {
   "cell_type": "code",
   "execution_count": 10,
   "id": "f2e77aca-9f54-4bfd-824e-c4f70740b28e",
   "metadata": {},
   "outputs": [
    {
     "name": "stdout",
     "output_type": "stream",
     "text": [
      "1\n",
      "2\n",
      "3\n",
      "4\n"
     ]
    }
   ],
   "source": [
    "# while loop : used to execute a set of statements as  long as the condition is true\n",
    "# print i as long as it is less than 5\n",
    "i = 1\n",
    "while i<5:\n",
    "    print(i)\n",
    "    i+=1"
   ]
  },
  {
   "cell_type": "code",
   "execution_count": 11,
   "id": "7ecad6f6-5203-4a04-b313-64ecf5fe16b1",
   "metadata": {},
   "outputs": [
    {
     "name": "stdout",
     "output_type": "stream",
     "text": [
      "1\n",
      "2\n",
      "3\n",
      "4\n",
      "5\n",
      "6\n"
     ]
    }
   ],
   "source": [
    "i=1\n",
    "while i<7:\n",
    "    print(i)\n",
    "    i+=1"
   ]
  },
  {
   "cell_type": "code",
   "execution_count": 12,
   "id": "cc13d51e-49bc-460b-9aa9-7f0aabda8942",
   "metadata": {},
   "outputs": [
    {
     "name": "stdout",
     "output_type": "stream",
     "text": [
      "1\n",
      "2\n",
      "3\n",
      "4\n"
     ]
    }
   ],
   "source": [
    "i=1\n",
    "while i<7:\n",
    "    print(i)\n",
    "    if i==4:\n",
    "        break\n",
    "    i+=1"
   ]
  },
  {
   "cell_type": "code",
   "execution_count": 1,
   "id": "8e2f30f4-3fae-4e3d-9c94-43ddbe4a18e1",
   "metadata": {},
   "outputs": [
    {
     "name": "stdout",
     "output_type": "stream",
     "text": [
      "2\n",
      "3\n",
      "5\n"
     ]
    }
   ],
   "source": [
    "i= 1\n",
    "while i<5:\n",
    "    i+=1\n",
    "    if i==4:\n",
    "        continue\n",
    "    print(i)\n",
    "    "
   ]
  },
  {
   "cell_type": "code",
   "execution_count": 2,
   "id": "186a826c-2689-499a-8fa0-d7d0f9b60dda",
   "metadata": {},
   "outputs": [
    {
     "name": "stdout",
     "output_type": "stream",
     "text": [
      "1\n",
      "2\n",
      "3\n",
      "4\n",
      "5\n",
      "6\n",
      "no\n"
     ]
    }
   ],
   "source": [
    "i=1\n",
    "while i<7:               # can use else if the condition is no longer true\n",
    "    print(i)\n",
    "    i+=1\n",
    "else:\n",
    "    print(\"no\")"
   ]
  },
  {
   "cell_type": "code",
   "execution_count": 4,
   "id": "5ec80ae2-bc34-4963-8350-752f53fce1e2",
   "metadata": {},
   "outputs": [
    {
     "name": "stdout",
     "output_type": "stream",
     "text": [
      "apple\n",
      "ball\n",
      "cherry\n"
     ]
    }
   ],
   "source": [
    "         # for loop used to iterate over asequence of list,tuple,str,dict,set\n",
    "fruits = [\"apple\",\"ball\",\"cherry\"]\n",
    "for x in fruits:\n",
    "    print(x)"
   ]
  },
  {
   "cell_type": "code",
   "execution_count": 5,
   "id": "84faf284-c6a5-4ed0-89d1-165e4ec87fe4",
   "metadata": {},
   "outputs": [
    {
     "name": "stdout",
     "output_type": "stream",
     "text": [
      "0\n",
      "1\n",
      "2\n",
      "3\n",
      "4\n",
      "5\n",
      "6\n",
      "7\n"
     ]
    }
   ],
   "source": [
    "for x in range(8):\n",
    "    print(x)"
   ]
  },
  {
   "cell_type": "code",
   "execution_count": 6,
   "id": "7c1a4a47-8023-46bc-bdc2-da3d9be1d691",
   "metadata": {},
   "outputs": [
    {
     "name": "stdout",
     "output_type": "stream",
     "text": [
      "2\n",
      "4\n",
      "6\n"
     ]
    }
   ],
   "source": [
    "for x in range(2,7,2):\n",
    "    print(x)"
   ]
  },
  {
   "cell_type": "code",
   "execution_count": 7,
   "id": "ccb831b7-5dcd-46f7-a9ab-7eb818a62e56",
   "metadata": {},
   "outputs": [
    {
     "name": "stdout",
     "output_type": "stream",
     "text": [
      "1\n",
      "2\n",
      "3\n",
      "4\n"
     ]
    }
   ],
   "source": [
    "for x in range(1,6,1):\n",
    "    print(x)\n",
    "    if x==4:\n",
    "        break"
   ]
  },
  {
   "cell_type": "code",
   "execution_count": 8,
   "id": "22759c77-2411-4930-b468-6c7f0c76531b",
   "metadata": {},
   "outputs": [
    {
     "name": "stdout",
     "output_type": "stream",
     "text": [
      "0\n",
      "1\n",
      "2\n",
      "3\n"
     ]
    }
   ],
   "source": [
    "for x in range(6):\n",
    "    if x==4:\n",
    "        break           # if we use else with break else doesnt print\n",
    "    print(x)\n",
    "else:\n",
    "    print(\"true\")"
   ]
  },
  {
   "cell_type": "code",
   "execution_count": 9,
   "id": "ab09c73c-7e79-49cf-9b99-a5301810abf0",
   "metadata": {},
   "outputs": [
    {
     "name": "stdout",
     "output_type": "stream",
     "text": [
      "0\n",
      "1\n",
      "2\n",
      "3\n",
      "finished\n"
     ]
    }
   ],
   "source": [
    "for x in range(4):\n",
    "    print(x)\n",
    "else:                           # else is used to indicate that the code is finally finished\n",
    "    print(\"finished\")"
   ]
  },
  {
   "cell_type": "code",
   "execution_count": 10,
   "id": "9e42bf0a-c0e3-4c40-ba24-b3237a387d07",
   "metadata": {},
   "outputs": [
    {
     "name": "stdout",
     "output_type": "stream",
     "text": [
      "0\n",
      "1\n",
      "2\n"
     ]
    }
   ],
   "source": [
    "for x in range(4):\n",
    "    if x==3:\n",
    "        continue\n",
    "    print(x)\n",
    "               "
   ]
  },
  {
   "cell_type": "code",
   "execution_count": 11,
   "id": "39537255-a118-4374-afce-19ecbb0f0a1a",
   "metadata": {},
   "outputs": [
    {
     "name": "stdout",
     "output_type": "stream",
     "text": [
      "apple  doni\n",
      "apple charvik\n",
      "ball  doni\n",
      "ball charvik\n",
      "cat  doni\n",
      "cat charvik\n"
     ]
    }
   ],
   "source": [
    "fruits = [\"apple\",\"ball\",\"cat\"]\n",
    "boy= [\" doni\",\"charvik\"]                     # nested loops\n",
    "for x in fruits:\n",
    "    for y in boy:\n",
    "        print(x,y)"
   ]
  },
  {
   "cell_type": "code",
   "execution_count": null,
   "id": "35746c4e-976b-4b33-96e8-9c9a19911d09",
   "metadata": {},
   "outputs": [],
   "source": []
  }
 ],
 "metadata": {
  "kernelspec": {
   "display_name": "Python 3 (ipykernel)",
   "language": "python",
   "name": "python3"
  },
  "language_info": {
   "codemirror_mode": {
    "name": "ipython",
    "version": 3
   },
   "file_extension": ".py",
   "mimetype": "text/x-python",
   "name": "python",
   "nbconvert_exporter": "python",
   "pygments_lexer": "ipython3",
   "version": "3.12.7"
  }
 },
 "nbformat": 4,
 "nbformat_minor": 5
}
