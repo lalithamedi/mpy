{
 "cells": [
  {
   "cell_type": "code",
   "execution_count": 1,
   "id": "47430c70-9b0f-4809-99c1-419a07bdb026",
   "metadata": {},
   "outputs": [
    {
     "name": "stdout",
     "output_type": "stream",
     "text": [
      "the value of car is: 56\n"
     ]
    }
   ],
   "source": [
    "num= 56\n",
    "print(\"the value of car is:\" , num)"
   ]
  },
  {
   "cell_type": "code",
   "execution_count": 2,
   "id": "353a4b7d-8c63-4c3d-a87e-2c3a6a41af9d",
   "metadata": {},
   "outputs": [
    {
     "ename": "TypeError",
     "evalue": "can only concatenate str (not \"int\") to str",
     "output_type": "error",
     "traceback": [
      "\u001b[1;31m---------------------------------------------------------------------------\u001b[0m",
      "\u001b[1;31mTypeError\u001b[0m                                 Traceback (most recent call last)",
      "Cell \u001b[1;32mIn[2], line 2\u001b[0m\n\u001b[0;32m      1\u001b[0m num\u001b[38;5;241m=\u001b[39m \u001b[38;5;241m56\u001b[39m\n\u001b[1;32m----> 2\u001b[0m \u001b[38;5;28mprint\u001b[39m(\u001b[38;5;124m\"\u001b[39m\u001b[38;5;124mthe value of car is:\u001b[39m\u001b[38;5;124m\"\u001b[39m \u001b[38;5;241m+\u001b[39m num)\n",
      "\u001b[1;31mTypeError\u001b[0m: can only concatenate str (not \"int\") to str"
     ]
    }
   ],
   "source": [
    "num= 56                                    # because we cannot add number and alphabet in a string.. so use comma\n",
    "print(\"the value of car is:\" + num)"
   ]
  },
  {
   "cell_type": "code",
   "execution_count": 4,
   "id": "8b57f571-c43d-443c-86ac-16f9c8db35c7",
   "metadata": {},
   "outputs": [
    {
     "name": "stdout",
     "output_type": "stream",
     "text": [
      "the value of x is50 and the value of y is79\n"
     ]
    }
   ],
   "source": [
    "# formatting output\n",
    "\n",
    "x= 50\n",
    "y=79\n",
    "print(\"the value of x is{} and the value of y is{}\" . format(x,y))"
   ]
  },
  {
   "cell_type": "code",
   "execution_count": 5,
   "id": "7efcf0bc-3ffd-4fb9-b565-e2478a4c4ab6",
   "metadata": {},
   "outputs": [
    {
     "name": "stdin",
     "output_type": "stream",
     "text": [
      "enter any value: 100\n"
     ]
    },
    {
     "name": "stdout",
     "output_type": "stream",
     "text": [
      "100\n"
     ]
    }
   ],
   "source": [
    "# input formatting\n",
    "\n",
    "value = input(\"enter any value:\")\n",
    "print(value)"
   ]
  },
  {
   "cell_type": "code",
   "execution_count": 6,
   "id": "725c7d30-b81d-464b-8812-1c0995a60d40",
   "metadata": {},
   "outputs": [
    {
     "name": "stdin",
     "output_type": "stream",
     "text": [
      "enter any number: bella\n"
     ]
    },
    {
     "name": "stdout",
     "output_type": "stream",
     "text": [
      "bella\n"
     ]
    }
   ],
   "source": [
    "value = input(\"enter any number:\")\n",
    "print(value)"
   ]
  },
  {
   "cell_type": "code",
   "execution_count": 7,
   "id": "06d4448b-8921-44d3-ace5-955afee2c8e6",
   "metadata": {},
   "outputs": [
    {
     "name": "stdin",
     "output_type": "stream",
     "text": [
      "enter any number: 500\n"
     ]
    },
    {
     "name": "stdout",
     "output_type": "stream",
     "text": [
      "500\n"
     ]
    }
   ],
   "source": [
    "value = int(input(\"enter any number:\"))\n",
    "print(value)"
   ]
  },
  {
   "cell_type": "code",
   "execution_count": 8,
   "id": "b408cdd8-3526-45c9-a031-a60793d753b1",
   "metadata": {},
   "outputs": [
    {
     "name": "stdin",
     "output_type": "stream",
     "text": [
      "enter any number: conmigo\n"
     ]
    },
    {
     "ename": "ValueError",
     "evalue": "invalid literal for int() with base 10: 'conmigo'",
     "output_type": "error",
     "traceback": [
      "\u001b[1;31m---------------------------------------------------------------------------\u001b[0m",
      "\u001b[1;31mValueError\u001b[0m                                Traceback (most recent call last)",
      "Cell \u001b[1;32mIn[8], line 1\u001b[0m\n\u001b[1;32m----> 1\u001b[0m value \u001b[38;5;241m=\u001b[39m \u001b[38;5;28mint\u001b[39m(\u001b[38;5;28minput\u001b[39m(\u001b[38;5;124m\"\u001b[39m\u001b[38;5;124menter any number:\u001b[39m\u001b[38;5;124m\"\u001b[39m))\n\u001b[0;32m      2\u001b[0m \u001b[38;5;28mprint\u001b[39m(value)\n",
      "\u001b[1;31mValueError\u001b[0m: invalid literal for int() with base 10: 'conmigo'"
     ]
    }
   ],
   "source": [
    "value = int(input(\"enter any number:\"))             # becoz it is converted to int, so type only int\n",
    "print(value)"
   ]
  },
  {
   "cell_type": "code",
   "execution_count": 9,
   "id": "9bf71500-5675-4706-857e-68fee2cb4722",
   "metadata": {},
   "outputs": [
    {
     "name": "stdout",
     "output_type": "stream",
     "text": [
      "yes, we r inside if ststement\n"
     ]
    }
   ],
   "source": [
    "# if statement:\n",
    "\n",
    "x = 500\n",
    "if x:\n",
    "    print(\"yes, we r inside if ststement\")"
   ]
  },
  {
   "cell_type": "code",
   "execution_count": 10,
   "id": "dea51be3-af5c-4b71-b3b0-cf7d489e7559",
   "metadata": {},
   "outputs": [
    {
     "ename": "NameError",
     "evalue": "name 'false' is not defined",
     "output_type": "error",
     "traceback": [
      "\u001b[1;31m---------------------------------------------------------------------------\u001b[0m",
      "\u001b[1;31mNameError\u001b[0m                                 Traceback (most recent call last)",
      "Cell \u001b[1;32mIn[10], line 1\u001b[0m\n\u001b[1;32m----> 1\u001b[0m x \u001b[38;5;241m=\u001b[39m false\n\u001b[0;32m      2\u001b[0m \u001b[38;5;28;01mif\u001b[39;00m x:\n\u001b[0;32m      3\u001b[0m     \u001b[38;5;28mprint\u001b[39m(\u001b[38;5;124m\"\u001b[39m\u001b[38;5;124myes, we r inside if ststement\u001b[39m\u001b[38;5;124m\"\u001b[39m)\n",
      "\u001b[1;31mNameError\u001b[0m: name 'false' is not defined"
     ]
    }
   ],
   "source": [
    "x = false\n",
    "if x:\n",
    "    print(\"yes, we r inside if ststement\")"
   ]
  },
  {
   "cell_type": "code",
   "execution_count": 11,
   "id": "f0353077-8b20-4df8-b030-cf11f3183149",
   "metadata": {},
   "outputs": [
    {
     "name": "stdout",
     "output_type": "stream",
     "text": [
      "no \n"
     ]
    }
   ],
   "source": [
    "x = 45\n",
    "if x<30:\n",
    "    print(\"yes, we r inside if ststement\")\n",
    "else:\n",
    "    print(\"no \")"
   ]
  },
  {
   "cell_type": "code",
   "execution_count": 13,
   "id": "44e29f3d-4181-4e37-bb4d-c9f5fc231d1e",
   "metadata": {},
   "outputs": [
    {
     "name": "stderr",
     "output_type": "stream",
     "text": [
      "<>:2: SyntaxWarning: \"is\" with 'int' literal. Did you mean \"==\"?\n",
      "<>:2: SyntaxWarning: \"is\" with 'int' literal. Did you mean \"==\"?\n"
     ]
    },
    {
     "name": "stdin",
     "output_type": "stream",
     "text": [
      "enter any number: 200\n"
     ]
    },
    {
     "name": "stderr",
     "output_type": "stream",
     "text": [
      "C:\\Users\\Lalitha\\AppData\\Local\\Temp\\ipykernel_10772\\1573279807.py:2: SyntaxWarning: \"is\" with 'int' literal. Did you mean \"==\"?\n",
      "  if num is 50:\n"
     ]
    }
   ],
   "source": [
    "num= input(\"enter any number:\")\n",
    "if num == 50:\n",
    "    print(yes)\n",
    "else:\n",
    "    print(no)"
   ]
  },
  {
   "cell_type": "code",
   "execution_count": 15,
   "id": "3b6b0930-8ce7-4735-97cb-81b8bf8f8be1",
   "metadata": {},
   "outputs": [
    {
     "name": "stdin",
     "output_type": "stream",
     "text": [
      "enter any number: 200\n"
     ]
    },
    {
     "name": "stdout",
     "output_type": "stream",
     "text": [
      "not equal\n"
     ]
    }
   ],
   "source": [
    "num= input(\"enter any number:\")\n",
    "if num == 50:\n",
    "    print(yes)\n",
    "else:\n",
    "    print(\"not equal\")"
   ]
  },
  {
   "cell_type": "code",
   "execution_count": 16,
   "id": "4e6fd891-7bec-4b23-9b6b-e5bb35e8369f",
   "metadata": {},
   "outputs": [
    {
     "name": "stdin",
     "output_type": "stream",
     "text": [
      "enter any number: 0\n"
     ]
    },
    {
     "name": "stdout",
     "output_type": "stream",
     "text": [
      "wassup\n"
     ]
    }
   ],
   "source": [
    "# if elif and else\n",
    "\n",
    "num= int(input(\"enter any number:\"))\n",
    "if num >= 50:\n",
    "    print(\"yeah\")\n",
    "elif num==0:\n",
    "    print(\"wassup\")\n",
    "else:\n",
    "    print(nope)\n",
    "         "
   ]
  },
  {
   "cell_type": "code",
   "execution_count": 18,
   "id": "966ca5ff-1d58-42f8-a047-0ecdecd54a33",
   "metadata": {},
   "outputs": [
    {
     "name": "stdin",
     "output_type": "stream",
     "text": [
      "enter any number: 43\n"
     ]
    },
    {
     "name": "stdout",
     "output_type": "stream",
     "text": [
      "nope\n"
     ]
    }
   ],
   "source": [
    "\n",
    "num= int(input(\"enter any number:\"))\n",
    "if num >= 50:\n",
    "    print(\"yeah\")\n",
    "elif num==0:\n",
    "    print(\"wassup\")\n",
    "else:\n",
    "    print('nope')"
   ]
  },
  {
   "cell_type": "code",
   "execution_count": 19,
   "id": "d567d27a-9d5a-483a-8850-c8d772eb9ee1",
   "metadata": {},
   "outputs": [
    {
     "name": "stdin",
     "output_type": "stream",
     "text": [
      "enter any number: 67\n"
     ]
    },
    {
     "name": "stdout",
     "output_type": "stream",
     "text": [
      "pass\n"
     ]
    }
   ],
   "source": [
    "# ternary operations..... makes more readable, single line\n",
    "\n",
    "num= int(input(\"enter any number:\"))\n",
    "print(\"pass\") if num > 50 else (\"fail\")"
   ]
  },
  {
   "cell_type": "code",
   "execution_count": 20,
   "id": "aff4d836-2c62-4d25-bf4b-45224c0d3802",
   "metadata": {},
   "outputs": [
    {
     "name": "stdout",
     "output_type": "stream",
     "text": [
      "apple\n",
      "banana\n",
      "cherry\n"
     ]
    }
   ],
   "source": [
    "# for statements:\n",
    "list = [\"apple\", \"banana\", \"cherry\"]\n",
    "for x in list:\n",
    "    print(x)"
   ]
  },
  {
   "cell_type": "code",
   "execution_count": 21,
   "id": "8d98ee08-1062-496e-badf-2f7abd117aa0",
   "metadata": {},
   "outputs": [
    {
     "name": "stdout",
     "output_type": "stream",
     "text": [
      "0\n",
      "1\n",
      "2\n",
      "3\n",
      "4\n",
      "5\n",
      "6\n",
      "7\n",
      "8\n",
      "9\n"
     ]
    }
   ],
   "source": [
    "# range:\n",
    "for x in range(10):\n",
    "    print(x)"
   ]
  },
  {
   "cell_type": "code",
   "execution_count": 22,
   "id": "475c2291-8a9d-4230-8148-93e65a373115",
   "metadata": {},
   "outputs": [
    {
     "name": "stdout",
     "output_type": "stream",
     "text": [
      "2\n",
      "3\n",
      "4\n",
      "5\n",
      "6\n",
      "7\n",
      "8\n",
      "9\n",
      "10\n"
     ]
    }
   ],
   "source": [
    "for x in range(2,11):\n",
    "    print(x)"
   ]
  },
  {
   "cell_type": "code",
   "execution_count": 23,
   "id": "cde5a4a3-38dd-4ea3-9545-855763fe8719",
   "metadata": {},
   "outputs": [
    {
     "name": "stdout",
     "output_type": "stream",
     "text": [
      "4\n",
      "6\n",
      "8\n"
     ]
    }
   ],
   "source": [
    "for x in range(4,9,2):\n",
    "    print(x)"
   ]
  },
  {
   "cell_type": "code",
   "execution_count": null,
   "id": "0c28104f-8114-4614-8616-aa9b01f25293",
   "metadata": {},
   "outputs": [],
   "source": [
    "start= 1\n",
    "end= 10\n",
    "while x <10:\n",
    "    print(x)\n",
    "    start= start+1"
   ]
  },
  {
   "cell_type": "code",
   "execution_count": 1,
   "id": "cc402c48-e232-44a7-bf46-9bf45421b6a8",
   "metadata": {},
   "outputs": [
    {
     "name": "stdout",
     "output_type": "stream",
     "text": [
      "4\n",
      "6\n",
      "8\n"
     ]
    }
   ],
   "source": [
    "for x in range(4,9,2):\n",
    "    print(x)"
   ]
  },
  {
   "cell_type": "code",
   "execution_count": 2,
   "id": "0c46eb56-672d-4c4b-b239-c64ff6db4b17",
   "metadata": {},
   "outputs": [
    {
     "name": "stdout",
     "output_type": "stream",
     "text": [
      "yes\n",
      "yes\n",
      "yes\n",
      "yes\n",
      "yes\n"
     ]
    }
   ],
   "source": [
    "for x in range(1,10):\n",
    "    if x==6:\n",
    "        break\n",
    "    else:\n",
    "        print(\"yes\")"
   ]
  },
  {
   "cell_type": "code",
   "execution_count": 3,
   "id": "61e556b3-2bbc-4cb9-89c1-291aaa5930b2",
   "metadata": {},
   "outputs": [
    {
     "name": "stdout",
     "output_type": "stream",
     "text": [
      "2\n",
      "hello world\n",
      "3\n",
      "hello world\n",
      "4\n",
      "hello world\n",
      "5\n",
      "hello world\n",
      "6\n",
      "hello world\n"
     ]
    }
   ],
   "source": [
    "for x in range(2,7):\n",
    "    print(x)\n",
    "    print(\"hello world\")"
   ]
  },
  {
   "cell_type": "code",
   "execution_count": 4,
   "id": "61e26e7c-766e-472a-8cf3-941998747980",
   "metadata": {},
   "outputs": [
    {
     "name": "stdout",
     "output_type": "stream",
     "text": [
      "2\n",
      "3\n",
      "4\n",
      "5\n",
      "6\n",
      "hello world\n"
     ]
    }
   ],
   "source": [
    "for x in range(2,7):\n",
    "    print(x)\n",
    "print(\"hello world\")"
   ]
  },
  {
   "cell_type": "code",
   "execution_count": null,
   "id": "7488bb0b-761f-4137-99e3-4289f8e0d70f",
   "metadata": {},
   "outputs": [],
   "source": []
  }
 ],
 "metadata": {
  "kernelspec": {
   "display_name": "Python 3 (ipykernel)",
   "language": "python",
   "name": "python3"
  },
  "language_info": {
   "codemirror_mode": {
    "name": "ipython",
    "version": 3
   },
   "file_extension": ".py",
   "mimetype": "text/x-python",
   "name": "python",
   "nbconvert_exporter": "python",
   "pygments_lexer": "ipython3",
   "version": "3.12.7"
  }
 },
 "nbformat": 4,
 "nbformat_minor": 5
}
