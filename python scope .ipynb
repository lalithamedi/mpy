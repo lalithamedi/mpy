{
 "cells": [
  {
   "cell_type": "code",
   "execution_count": 1,
   "id": "59626757-8ff4-44a7-999a-581eb2a0de13",
   "metadata": {},
   "outputs": [
    {
     "name": "stdout",
     "output_type": "stream",
     "text": [
      "29\n"
     ]
    }
   ],
   "source": [
    "# scope... variable available inside the region it is created\n",
    "# local scope... variable created inside the function.. can be used within that function\n",
    "# global scope... variable created outside the function... can be used both inside and outside.\n",
    "def myfunc():\n",
    "    x = 29\n",
    "    print(x)\n",
    "myfunc()"
   ]
  },
  {
   "cell_type": "code",
   "execution_count": 8,
   "id": "05e19863-715f-4438-8261-fb783f8154b3",
   "metadata": {},
   "outputs": [
    {
     "name": "stdout",
     "output_type": "stream",
     "text": [
      "67\n"
     ]
    }
   ],
   "source": [
    "# function inside a function... local variable can be accessed in a nested function\n",
    "def myfunc():\n",
    "    x= 67\n",
    "    def myinnerfunc():\n",
    "        print(x)\n",
    "    myinnerfunc()\n",
    "myfunc()\n"
   ]
  },
  {
   "cell_type": "code",
   "execution_count": 5,
   "id": "2cc4739a-511b-42e8-9ef7-ad0b0c9bf773",
   "metadata": {},
   "outputs": [
    {
     "name": "stdout",
     "output_type": "stream",
     "text": [
      "45\n",
      "45\n"
     ]
    }
   ],
   "source": [
    "# global scope:\n",
    "x = 45\n",
    "def myfunc():\n",
    "    print(x)\n",
    "myfunc()\n",
    "print(x)\n"
   ]
  },
  {
   "cell_type": "code",
   "execution_count": 9,
   "id": "7d96fd01-37e9-4540-8f94-48c56201635c",
   "metadata": {},
   "outputs": [
    {
     "name": "stdout",
     "output_type": "stream",
     "text": [
      "400\n",
      "700\n"
     ]
    }
   ],
   "source": [
    "x= 700\n",
    "def myfunc():\n",
    "    x= 400\n",
    "    print(x)\n",
    "myfunc()      # prints local variable\n",
    "print(x)      # prints global variable\n"
   ]
  },
  {
   "cell_type": "code",
   "execution_count": 11,
   "id": "2a75f43e-8da6-47ca-8fdb-7ccd91b944b4",
   "metadata": {},
   "outputs": [
    {
     "name": "stdout",
     "output_type": "stream",
     "text": [
      "790\n"
     ]
    }
   ],
   "source": [
    "x= 689\n",
    "def myfunc():\n",
    "    global x\n",
    "    x= 790\n",
    "\n",
    "myfunc()\n",
    "print(x)"
   ]
  },
  {
   "cell_type": "code",
   "execution_count": 12,
   "id": "4aad9a04-2ffb-49bb-96dd-a31dacab382c",
   "metadata": {},
   "outputs": [
    {
     "name": "stdout",
     "output_type": "stream",
     "text": [
      "678\n"
     ]
    }
   ],
   "source": [
    "def myfunc():\n",
    "    global x\n",
    "    x= 678\n",
    "myfunc()\n",
    "print(x)"
   ]
  },
  {
   "cell_type": "code",
   "execution_count": 14,
   "id": "22f847bc-caf8-41d9-ab1e-0ebf129db548",
   "metadata": {},
   "outputs": [
    {
     "name": "stdout",
     "output_type": "stream",
     "text": [
      "yeah\n"
     ]
    }
   ],
   "source": [
    "# non local keyword .... used to work with nested functions..... makes the variable belong to outer function\n",
    "def myfunc():\n",
    "    x = \"yes\"\n",
    "    def myinnerfunc():\n",
    "        nonlocal x\n",
    "        x = \"yeah\"\n",
    "    myinnerfunc()\n",
    "    return x\n",
    "print(myfunc())"
   ]
  },
  {
   "cell_type": "code",
   "execution_count": 20,
   "id": "b8821e27-3ce5-4491-936c-f21c6ec06ba5",
   "metadata": {},
   "outputs": [
    {
     "ename": "ModuleNotFoundError",
     "evalue": "No module named 'mymodule'",
     "output_type": "error",
     "traceback": [
      "\u001b[1;31m---------------------------------------------------------------------------\u001b[0m",
      "\u001b[1;31mModuleNotFoundError\u001b[0m                       Traceback (most recent call last)",
      "Cell \u001b[1;32mIn[20], line 5\u001b[0m\n\u001b[0;32m      3\u001b[0m \u001b[38;5;28;01mdef\u001b[39;00m \u001b[38;5;21mgreeting\u001b[39m(name):\n\u001b[0;32m      4\u001b[0m     \u001b[38;5;28mprint\u001b[39m(\u001b[38;5;124m\"\u001b[39m\u001b[38;5;124mhello, my name is \u001b[39m\u001b[38;5;124m\"\u001b[39m\u001b[38;5;241m+\u001b[39m \u001b[38;5;124m\"\u001b[39m\u001b[38;5;124mlalli\u001b[39m\u001b[38;5;124m\"\u001b[39m)           \u001b[38;5;66;03m# save this code in a file as mymodule.py\u001b[39;00m\n\u001b[1;32m----> 5\u001b[0m \u001b[38;5;28;01mimport\u001b[39;00m \u001b[38;5;21;01mmymodule\u001b[39;00m\n\u001b[0;32m      6\u001b[0m mymodule\u001b[38;5;241m.\u001b[39mgreeting(\u001b[38;5;124m\"\u001b[39m\u001b[38;5;124mlalli\u001b[39m\u001b[38;5;124m\"\u001b[39m)\n",
      "\u001b[1;31mModuleNotFoundError\u001b[0m: No module named 'mymodule'"
     ]
    }
   ],
   "source": [
    "# PYTHON MODULE ... IS A CODE LIBRARY .... it is a file containing different functions to use in your application.\n",
    "# creating a module.. write the code and save the file in .py extension\n",
    "def greeting(name):\n",
    "    print(\"hello, my name is \"+ \"lalli\")           # save this code in a file as mymodule.py\n",
    "import mymodule\n",
    "mymodule.greeting(\"lalli\")\n",
    "    "
   ]
  },
  {
   "cell_type": "code",
   "execution_count": 21,
   "id": "f66d540b-b827-40ef-ae35-78f249a49261",
   "metadata": {},
   "outputs": [
    {
     "ename": "ModuleNotFoundError",
     "evalue": "No module named 'mymodule'",
     "output_type": "error",
     "traceback": [
      "\u001b[1;31m---------------------------------------------------------------------------\u001b[0m",
      "\u001b[1;31mModuleNotFoundError\u001b[0m                       Traceback (most recent call last)",
      "Cell \u001b[1;32mIn[21], line 3\u001b[0m\n\u001b[0;32m      1\u001b[0m \u001b[38;5;28;01mdef\u001b[39;00m \u001b[38;5;21mgreeting\u001b[39m(name):\n\u001b[0;32m      2\u001b[0m     \u001b[38;5;28mprint\u001b[39m(\u001b[38;5;124m\"\u001b[39m\u001b[38;5;124mhello my name is \u001b[39m\u001b[38;5;124m\"\u001b[39m\u001b[38;5;241m+\u001b[39m\u001b[38;5;124m\"\u001b[39m\u001b[38;5;124m alana\u001b[39m\u001b[38;5;124m\"\u001b[39m)\n\u001b[1;32m----> 3\u001b[0m \u001b[38;5;28;01mimport\u001b[39;00m \u001b[38;5;21;01mmymodule\u001b[39;00m\n\u001b[0;32m      4\u001b[0m mymodule\u001b[38;5;241m.\u001b[39mgreeting(\u001b[38;5;124m\"\u001b[39m\u001b[38;5;124malana\u001b[39m\u001b[38;5;124m\"\u001b[39m)\n",
      "\u001b[1;31mModuleNotFoundError\u001b[0m: No module named 'mymodule'"
     ]
    }
   ],
   "source": [
    "def greeting(name):\n",
    "    print(\"hello my name is \"+\" alana\")\n",
    "import mymodule\n",
    "mymodule.greeting(\"alana\")"
   ]
  },
  {
   "cell_type": "code",
   "execution_count": null,
   "id": "c4c01b6b-c1a5-4bc0-bc77-c2ca0f94f489",
   "metadata": {},
   "outputs": [],
   "source": [
    "# when using a function in module use syntax .... module_name.function_name\n",
    "\"\"\"\n",
    "built in modules...\n",
    "1. to get all the functions and methods of the variable use dir method\n",
    "eg:  import mymodule\n",
    "     x= dir(mymodule)\n",
    "     print(x)\n",
    "2. to import from module use from\n",
    "eg:   from mymodule import person\n",
    "      print(person[\"age\"]"
   ]
  },
  {
   "cell_type": "code",
   "execution_count": 22,
   "id": "1ef63cfa-92ba-415a-9fde-23c4dcb2695d",
   "metadata": {},
   "outputs": [
    {
     "name": "stdout",
     "output_type": "stream",
     "text": [
      "2025-01-29 15:05:27.353131\n"
     ]
    }
   ],
   "source": [
    "        # python DATE TIME\n",
    "\"\"\"\n",
    "PYTHON DATE: date in python is not a data type but can be also used to import a module named datatime to work as a date object\n",
    "\"\"\"\n",
    "#Import the datetime module and display the current date:\n",
    "import datetime\n",
    "x= datetime.datetime.now()\n",
    "print(x)"
   ]
  },
  {
   "cell_type": "code",
   "execution_count": 24,
   "id": "1cf08c80-eef4-4e43-a75a-ef776c788696",
   "metadata": {},
   "outputs": [
    {
     "name": "stdout",
     "output_type": "stream",
     "text": [
      "2025-01-29 15:08:10.388953\n",
      "2025\n",
      "Wednesday\n"
     ]
    }
   ],
   "source": [
    "#Return the year and name of weekday:\n",
    "import datetime\n",
    "x= datetime.datetime.now()\n",
    "print(x)\n",
    "print(x.year)\n",
    "print(x.strftime(\"%A\"))"
   ]
  },
  {
   "cell_type": "code",
   "execution_count": 26,
   "id": "19773090-476b-418a-a13d-d77e05c71841",
   "metadata": {},
   "outputs": [
    {
     "name": "stdout",
     "output_type": "stream",
     "text": [
      "1996-09-03 00:00:00\n"
     ]
    }
   ],
   "source": [
    "# create a date (date objects): using datetime class constructor() of the datetime module\n",
    "#Create a date object:\n",
    "import datetime\n",
    "x= datetime.datetime(1996,9,3)\n",
    "print(x)"
   ]
  },
  {
   "cell_type": "code",
   "execution_count": 36,
   "id": "c3ce2d4c-e005-40f9-b80e-ff9bfaaa639b",
   "metadata": {},
   "outputs": [
    {
     "name": "stdout",
     "output_type": "stream",
     "text": [
      "1996-09-03 00:00:00\n",
      "Tuesday\n",
      "September\n",
      "1996\n"
     ]
    }
   ],
   "source": [
    "# strftime() method: the datetime object has a method to format the date objects into readable strings\n",
    "\n",
    "# create a date and display the name of the weekday and name of the month\n",
    "import datetime\n",
    "x= datetime.datetime(1996,9,3)\n",
    "print(x)\n",
    "print(x.strftime(\"%A\")) # name of weekday\n",
    "print(x.strftime(\"%B\"))  # name of month\n",
    "print(x.strftime(\"%Y\"))  # name of year\n"
   ]
  },
  {
   "cell_type": "code",
   "execution_count": 35,
   "id": "075ecc2a-eef5-4fa5-8aee-d74fa6d777c2",
   "metadata": {},
   "outputs": [
    {
     "name": "stdout",
     "output_type": "stream",
     "text": [
      "2025-01-29 15:27:09.729831\n",
      "15\n",
      "27\n",
      "09\n",
      "01\n",
      "PM\n",
      "\n",
      "20\n"
     ]
    }
   ],
   "source": [
    "import datetime\n",
    "x= datetime.datetime.now()\n",
    "print(x)\n",
    "print(x.strftime(\"%H\"))   # hour\n",
    "print(x.strftime(\"%M\"))   # minutes\n",
    "print(x.strftime(\"%S\"))    # seconds\n",
    "print(x.strftime(\"%m\"))    # month as a number\n",
    "print(x.strftime(\"%p\"))     # AM/PM\n",
    "print(x.strftime(\"%Z\"))     # TIMEZONE\n",
    "print(x.strftime(\"%C\"))     # CENTURY\n",
    "      "
   ]
  },
  {
   "cell_type": "code",
   "execution_count": 37,
   "id": "c23c8783-08b2-46eb-9453-29406dc16245",
   "metadata": {},
   "outputs": [
    {
     "name": "stdout",
     "output_type": "stream",
     "text": [
      "97\n",
      "11\n"
     ]
    }
   ],
   "source": [
    "  # PYTHON MATH....\n",
    " # BUILT IN MATH FUNCTIONS\n",
    "\n",
    "x = [ 11,45,97,76]\n",
    "print(max(x))\n",
    "print(min(x))"
   ]
  },
  {
   "cell_type": "code",
   "execution_count": 39,
   "id": "3cdb83c2-315c-40c4-809d-a47d5a9a667e",
   "metadata": {},
   "outputs": [
    {
     "name": "stdout",
     "output_type": "stream",
     "text": [
      "896.89\n"
     ]
    }
   ],
   "source": [
    "x = -896.89    # absolute function gets the positive value\n",
    "print(abs(x))"
   ]
  },
  {
   "cell_type": "code",
   "execution_count": 40,
   "id": "aac72732-7e7c-49b6-8605-ce3772070e20",
   "metadata": {},
   "outputs": [
    {
     "name": "stdout",
     "output_type": "stream",
     "text": [
      "390625\n"
     ]
    }
   ],
   "source": [
    "# pow(x,y)  get the value of 5 to the power of 8\n",
    "x= pow(5,8)\n",
    "print(x)"
   ]
  },
  {
   "cell_type": "code",
   "execution_count": 41,
   "id": "dbacea39-e684-49c1-9980-ae4af0bf6559",
   "metadata": {},
   "outputs": [
    {
     "name": "stdout",
     "output_type": "stream",
     "text": [
      "9.433981132056603\n"
     ]
    }
   ],
   "source": [
    "# python has a math module.. built in module which has many mathematical functions . to use it first import math module\n",
    "#get the squareroot of 89\n",
    "import math\n",
    "x= math.sqrt(89)\n",
    "print(x)\n"
   ]
  },
  {
   "cell_type": "code",
   "execution_count": 42,
   "id": "ef56f4a2-d8bb-4325-ad45-3c1fde6780e8",
   "metadata": {},
   "outputs": [
    {
     "name": "stdout",
     "output_type": "stream",
     "text": [
      "3.141592653589793\n"
     ]
    }
   ],
   "source": [
    "# get the value of pi\n",
    "import math\n",
    "x= math.pi\n",
    "print(x)"
   ]
  },
  {
   "cell_type": "code",
   "execution_count": 44,
   "id": "deb5a2c8-58a6-43bb-9d36-a303724471e1",
   "metadata": {},
   "outputs": [
    {
     "name": "stdout",
     "output_type": "stream",
     "text": [
      "6\n",
      "8\n"
     ]
    }
   ],
   "source": [
    "# python ceil and floor \n",
    "import math\n",
    "x= math.ceil(5.7)    # rounds a number upwars to its nearest integer\n",
    "print(x)\n",
    "x= math.floor(8.7)   # rounds a no downwards to its nearest integer\n",
    "print(x)\n"
   ]
  },
  {
   "cell_type": "code",
   "execution_count": 1,
   "id": "1a06a0ba-71d3-4376-ad76-2118b3839701",
   "metadata": {},
   "outputs": [
    {
     "name": "stdout",
     "output_type": "stream",
     "text": [
      "something happened\n"
     ]
    }
   ],
   "source": [
    "# PYTHON TRY, EXCEPT, ELSE, FINALLY\n",
    "'''\n",
    "try:      lets you to test a block of code for errors\n",
    "except... lets you to handle those errors\n",
    "else......lets you to execute code when there is no errors\n",
    "finally... lets you to execute code, irrespective of the try and except blocks\n",
    "\n",
    "when an error/ exception occurs, python handles those errors (exception handling using try block)\n",
    "'''\n",
    "try:                               # try is not executed because x is not defined\n",
    "  print(x)\n",
    "except:\n",
    "    print(\"something happened\")"
   ]
  },
  {
   "cell_type": "code",
   "execution_count": 2,
   "id": "1479f4d2-d7a3-442c-99e0-f31710691df9",
   "metadata": {},
   "outputs": [
    {
     "name": "stdout",
     "output_type": "stream",
     "text": [
      "hello\n",
      "nothing happened\n"
     ]
    }
   ],
   "source": [
    "try:\n",
    "  print(\"hello\")\n",
    "except:\n",
    "  print(\"something happened\")\n",
    "else:\n",
    "  print(\"nothing happened\")"
   ]
  },
  {
   "cell_type": "code",
   "execution_count": 6,
   "id": "5315c156-3608-4953-bca3-756e78a430d9",
   "metadata": {},
   "outputs": [
    {
     "name": "stdout",
     "output_type": "stream",
     "text": [
      "x\n",
      "nothing happened\n"
     ]
    }
   ],
   "source": [
    "try:\n",
    "  print(\"x\")                         # the try blocks doesnt cause any errors, so the else is executed\n",
    "except:\n",
    "  print(\"something happened\")\n",
    "else:\n",
    "  print(\"nothing happened\")"
   ]
  },
  {
   "cell_type": "code",
   "execution_count": 9,
   "id": "c4688a75-d285-4a6e-9d7f-f4331a0f356b",
   "metadata": {},
   "outputs": [
    {
     "name": "stdout",
     "output_type": "stream",
     "text": [
      "something happened\n"
     ]
    }
   ],
   "source": [
    "try:\n",
    "  print(x)\n",
    "except NameError:                        ##The try block will generate a NameError, because x is not defined:\n",
    "  print(\"something happened\")\n",
    "except:\n",
    "  print(\"nothing happened\")"
   ]
  },
  {
   "cell_type": "code",
   "execution_count": 10,
   "id": "27c62d6f-5db7-48cb-b866-a361f6b1dd83",
   "metadata": {},
   "outputs": [
    {
     "name": "stdout",
     "output_type": "stream",
     "text": [
      "x\n",
      "finished\n"
     ]
    }
   ],
   "source": [
    "try:\n",
    "  print(\"x\")\n",
    "except:                                   # finally will execute irrespective of the try and except\n",
    "  print(\"nothing happened\")\n",
    "finally:\n",
    "    print(\"finished\")"
   ]
  },
  {
   "cell_type": "code",
   "execution_count": 11,
   "id": "04c5a760-c7f5-41e5-a8e6-42021a24ad3b",
   "metadata": {},
   "outputs": [
    {
     "name": "stdout",
     "output_type": "stream",
     "text": [
      "nothing happened\n",
      "finished\n"
     ]
    }
   ],
   "source": [
    "try:\n",
    "  print(x)\n",
    "except:\n",
    "  print(\"nothing happened\")\n",
    "finally:\n",
    "    print(\"finished\")"
   ]
  },
  {
   "cell_type": "code",
   "execution_count": 12,
   "id": "3fcad95a-63e6-459f-a5ab-af18bc0d643e",
   "metadata": {},
   "outputs": [
    {
     "ename": "Exception",
     "evalue": "no numbers below zero",
     "output_type": "error",
     "traceback": [
      "\u001b[1;31m---------------------------------------------------------------------------\u001b[0m",
      "\u001b[1;31mException\u001b[0m                                 Traceback (most recent call last)",
      "Cell \u001b[1;32mIn[12], line 4\u001b[0m\n\u001b[0;32m      2\u001b[0m x \u001b[38;5;241m=\u001b[39m \u001b[38;5;241m-\u001b[39m\u001b[38;5;241m1\u001b[39m\n\u001b[0;32m      3\u001b[0m \u001b[38;5;28;01mif\u001b[39;00m x\u001b[38;5;241m<\u001b[39m \u001b[38;5;241m0\u001b[39m:\n\u001b[1;32m----> 4\u001b[0m     \u001b[38;5;28;01mraise\u001b[39;00m \u001b[38;5;167;01mException\u001b[39;00m(\u001b[38;5;124m\"\u001b[39m\u001b[38;5;124mno numbers below zero\u001b[39m\u001b[38;5;124m\"\u001b[39m)\n",
      "\u001b[1;31mException\u001b[0m: no numbers below zero"
     ]
    }
   ],
   "source": [
    "#Raise an error and stop the program if x is lower than 0:\n",
    "x = -1\n",
    "if x< 0:\n",
    "    raise Exception(\"no numbers below zero\")"
   ]
  },
  {
   "cell_type": "code",
   "execution_count": 13,
   "id": "2d0806f9-1088-445b-a042-8ef22980396f",
   "metadata": {},
   "outputs": [
    {
     "ename": "Exception",
     "evalue": "not recommended",
     "output_type": "error",
     "traceback": [
      "\u001b[1;31m---------------------------------------------------------------------------\u001b[0m",
      "\u001b[1;31mException\u001b[0m                                 Traceback (most recent call last)",
      "Cell \u001b[1;32mIn[13], line 4\u001b[0m\n\u001b[0;32m      2\u001b[0m x \u001b[38;5;241m=\u001b[39m \u001b[38;5;124m\"\u001b[39m\u001b[38;5;124mlalitha\u001b[39m\u001b[38;5;124m\"\u001b[39m\n\u001b[0;32m      3\u001b[0m \u001b[38;5;28;01mif\u001b[39;00m x \u001b[38;5;129;01mis\u001b[39;00m \u001b[38;5;129;01mnot\u001b[39;00m \u001b[38;5;28mint\u001b[39m:\n\u001b[1;32m----> 4\u001b[0m     \u001b[38;5;28;01mraise\u001b[39;00m \u001b[38;5;167;01mException\u001b[39;00m(\u001b[38;5;124m\"\u001b[39m\u001b[38;5;124mnot recommended\u001b[39m\u001b[38;5;124m\"\u001b[39m)\n",
      "\u001b[1;31mException\u001b[0m: not recommended"
     ]
    }
   ],
   "source": [
    "#Raise a TypeError if x is not an integer:\n",
    "x = \"lalitha\"\n",
    "if x is not int:\n",
    "    raise Exception(\"not recommended\")"
   ]
  },
  {
   "cell_type": "code",
   "execution_count": 14,
   "id": "a6cd11f0-8919-4102-bf41-2834d9de8a0f",
   "metadata": {},
   "outputs": [
    {
     "ename": "Exception",
     "evalue": "not recommended",
     "output_type": "error",
     "traceback": [
      "\u001b[1;31m---------------------------------------------------------------------------\u001b[0m",
      "\u001b[1;31mException\u001b[0m                                 Traceback (most recent call last)",
      "Cell \u001b[1;32mIn[14], line 4\u001b[0m\n\u001b[0;32m      2\u001b[0m x\u001b[38;5;241m=\u001b[39m \u001b[38;5;124m\"\u001b[39m\u001b[38;5;124mlalitha\u001b[39m\u001b[38;5;124m\"\u001b[39m\n\u001b[0;32m      3\u001b[0m \u001b[38;5;28;01mif\u001b[39;00m \u001b[38;5;129;01mnot\u001b[39;00m \u001b[38;5;28mtype\u001b[39m(x) \u001b[38;5;129;01mis\u001b[39;00m \u001b[38;5;28mint\u001b[39m:\n\u001b[1;32m----> 4\u001b[0m   \u001b[38;5;28;01mraise\u001b[39;00m \u001b[38;5;167;01mException\u001b[39;00m(\u001b[38;5;124m\"\u001b[39m\u001b[38;5;124mnot recommended\u001b[39m\u001b[38;5;124m\"\u001b[39m)\n",
      "\u001b[1;31mException\u001b[0m: not recommended"
     ]
    }
   ],
   "source": [
    "                # OR\n",
    "x= \"lalitha\"\n",
    "if not type(x) is int:\n",
    "  raise Exception(\"not recommended\")"
   ]
  },
  {
   "cell_type": "code",
   "execution_count": 15,
   "id": "4d43ecc1-72b8-461a-aabe-8e30450dae32",
   "metadata": {},
   "outputs": [
    {
     "name": "stdout",
     "output_type": "stream",
     "text": [
      "the animal is in me\n"
     ]
    }
   ],
   "source": [
    "# PYTHON STRING FORMATTING:\n",
    "# 3.6 versions has f-string before they used format() method\n",
    "# create an f string:\n",
    "x = f\"the animal is in me\"\n",
    "print(x)\n",
    "\n"
   ]
  },
  {
   "cell_type": "code",
   "execution_count": null,
   "id": "b2b1d723-ed3d-4860-b925-86c5d042539a",
   "metadata": {},
   "outputs": [],
   "source": [
    "# placeholders and modifiers:\n",
    "''' \n",
    "to format the values we use placeholders like {} . \n",
    "placeholders can contain different functions, modifiers, variables and operations to format the value\n",
    "\n",
    "modifiers are placed in the placements with a default : and to describe the value with 2 decimals add .2f ( a fixed point number with 2 decimals)\n",
    "other modifiers :, add comma to differenciate the thousand\n",
    "'''"
   ]
  },
  {
   "cell_type": "code",
   "execution_count": 16,
   "id": "654f8366-380a-492a-81af-557fb1cfb012",
   "metadata": {},
   "outputs": [
    {
     "name": "stdout",
     "output_type": "stream",
     "text": [
      "the beautiful girl in the world is lalitha\n"
     ]
    }
   ],
   "source": [
    "txt = \"lalitha\"\n",
    "x = f\"the beautiful girl in the world is {txt}\"\n",
    "print(x)"
   ]
  },
  {
   "cell_type": "code",
   "execution_count": 17,
   "id": "bdb9672f-2f56-44e5-a96b-ee248ef33726",
   "metadata": {},
   "outputs": [
    {
     "name": "stdout",
     "output_type": "stream",
     "text": [
      "the price of donut is 57 dollars\n"
     ]
    }
   ],
   "source": [
    "x= f\"the price of donut is {57} dollars\"\n",
    "print(x)"
   ]
  },
  {
   "cell_type": "code",
   "execution_count": 18,
   "id": "215e9246-bad8-45f5-9d9e-813539876c89",
   "metadata": {},
   "outputs": [
    {
     "name": "stdout",
     "output_type": "stream",
     "text": [
      "the price of donut is 3078 dollars\n"
     ]
    }
   ],
   "source": [
    "x= f\"the price of donut is {57 * 54} dollars\"\n",
    "print(x)"
   ]
  },
  {
   "cell_type": "code",
   "execution_count": 20,
   "id": "4227befa-8c12-424e-b014-b7b794b90471",
   "metadata": {},
   "outputs": [
    {
     "name": "stdout",
     "output_type": "stream",
     "text": [
      "the price of the house is 5544 \n"
     ]
    }
   ],
   "source": [
    "price = 56\n",
    "tax = 98\n",
    "txt = f\"the price of the house is {price+(price*tax)} \"\n",
    "print(txt)\n"
   ]
  },
  {
   "cell_type": "code",
   "execution_count": 21,
   "id": "3ae958f9-0721-42f3-a630-44028ddc4745",
   "metadata": {},
   "outputs": [
    {
     "name": "stdout",
     "output_type": "stream",
     "text": [
      "the price of donut is 57.00 dollars\n"
     ]
    }
   ],
   "source": [
    "x= f\"the price of donut is {57:.2f} dollars\"\n",
    "print(x)"
   ]
  },
  {
   "cell_type": "code",
   "execution_count": 24,
   "id": "fe936a13-6f7a-42ea-b02a-39791fed2db6",
   "metadata": {},
   "outputs": [
    {
     "name": "stdout",
     "output_type": "stream",
     "text": [
      "the price of donut is 57,000 dollars\n"
     ]
    }
   ],
   "source": [
    "price = 57000\n",
    "x= f\"the price of donut is {price:,} dollars\"\n",
    "print(x)"
   ]
  },
  {
   "cell_type": "code",
   "execution_count": 26,
   "id": "7ba6311c-7115-4156-8ee3-0b75365c0116",
   "metadata": {},
   "outputs": [
    {
     "name": "stdout",
     "output_type": "stream",
     "text": [
      "the item is expensive\n"
     ]
    }
   ],
   "source": [
    "#Return \"Expensive\" if the price is over 50, otherwise return \"Cheap\":\n",
    "x= f'the item is {\"expensive\" if price> 50 else \"cheap\"}'\n",
    "print(x)"
   ]
  },
  {
   "cell_type": "code",
   "execution_count": 27,
   "id": "8b8f0b21-8935-4fc6-9198-c2ecae1fe612",
   "metadata": {},
   "outputs": [
    {
     "name": "stdout",
     "output_type": "stream",
     "text": [
      " I love the fruit APPLE\n"
     ]
    }
   ],
   "source": [
    "# execute functions in f strings\n",
    "\n",
    "fruits = \"apple\"\n",
    "x = f\" I love the fruit {fruits.upper()}\"\n",
    "print(x)"
   ]
  },
  {
   "cell_type": "code",
   "execution_count": 29,
   "id": "50e0820c-0d43-4894-94d4-52994c8bd3dd",
   "metadata": {},
   "outputs": [
    {
     "name": "stdout",
     "output_type": "stream",
     "text": [
      "I want 23 pieces of pink colour rose\n"
     ]
    }
   ],
   "source": [
    "quantity= 23\n",
    "colour = \"pink\"\n",
    "flower = \"rose\"\n",
    "x = \"I want {} pieces of {} colour {}\"\n",
    "print(x.format(quantity,colour,flower))"
   ]
  },
  {
   "cell_type": "code",
   "execution_count": 33,
   "id": "9da43ebb-e335-4679-b1b8-cc87c32b6e8e",
   "metadata": {},
   "outputs": [
    {
     "name": "stdout",
     "output_type": "stream",
     "text": [
      "I want 23 pieces of pink colour rose for 49.00 dollars\n"
     ]
    }
   ],
   "source": [
    "quantity= 23\n",
    "colour = \"pink\"\n",
    "flower = \"rose\"\n",
    "price = 49\n",
    "x = \"I want {0} pieces of {1} colour {2} for {3:.2f} dollars\"\n",
    "print(x.format(quantity,colour,flower,price))"
   ]
  },
  {
   "cell_type": "code",
   "execution_count": 36,
   "id": "2cb35dd9-a6c0-4881-b6d0-8b41760f9cde",
   "metadata": {},
   "outputs": [
    {
     "name": "stdout",
     "output_type": "stream",
     "text": [
      "i have a Volvo it is a Electric\n"
     ]
    }
   ],
   "source": [
    "x = \"i have a {carname} it is a {brand}\"\n",
    "print(x.format(carname = \"Volvo\", brand = \"Electric\"))"
   ]
  },
  {
   "cell_type": "code",
   "execution_count": 3,
   "id": "dc810d87-ff6d-4485-8316-457d349fe09b",
   "metadata": {},
   "outputs": [
    {
     "name": "stdin",
     "output_type": "stream",
     "text": [
      "enter any number: 78\n"
     ]
    },
    {
     "name": "stdout",
     "output_type": "stream",
     "text": [
      "the number is:Number\n"
     ]
    }
   ],
   "source": [
    "x= input(\"enter any number:\")\n",
    "print(\"the number is:\" + \"Number\")"
   ]
  },
  {
   "cell_type": "code",
   "execution_count": 6,
   "id": "a2550f12-ea84-4a1c-9ccd-cc84796bd207",
   "metadata": {},
   "outputs": [
    {
     "name": "stdin",
     "output_type": "stream",
     "text": [
      "enter a name: lalli\n"
     ]
    },
    {
     "name": "stdout",
     "output_type": "stream",
     "text": [
      "the name is:username\n"
     ]
    }
   ],
   "source": [
    "x= input(\"enter a name:\")\n",
    "print(\"the name is:\"+ \"username\")"
   ]
  },
  {
   "cell_type": "code",
   "execution_count": 7,
   "id": "7dc0dfd3-aeb4-4144-9b63-bebb619ca7aa",
   "metadata": {},
   "outputs": [
    {
     "name": "stdout",
     "output_type": "stream",
     "text": [
      "['a', 'c', 'n']\n"
     ]
    }
   ],
   "source": [
    "mylist= [\"a\",\"c\",\"c\",\"a\",\"n\"]\n",
    "# to delete duplicates in a list convert to a dict and convert back\n",
    "mylist= list(dict.fromkeys(mylist))\n",
    "print(mylist)"
   ]
  },
  {
   "cell_type": "code",
   "execution_count": 8,
   "id": "a8db313f-188f-44aa-847c-e2f36d288570",
   "metadata": {},
   "outputs": [
    {
     "name": "stdout",
     "output_type": "stream",
     "text": [
      "ylevol olleh\n"
     ]
    }
   ],
   "source": [
    "# reverse a string\n",
    "str= \"hello lovely\"\n",
    "x= str[::-1]\n",
    "print(x)"
   ]
  },
  {
   "cell_type": "code",
   "execution_count": 9,
   "id": "84af32e5-0152-4c5f-9295-837aa6d9fed4",
   "metadata": {},
   "outputs": [
    {
     "name": "stdout",
     "output_type": "stream",
     "text": [
      "15\n"
     ]
    }
   ],
   "source": [
    "# add 2 numbers\n",
    "x= 6\n",
    "y= 9\n",
    "z= x+y\n",
    "print(z)"
   ]
  },
  {
   "cell_type": "code",
   "execution_count": 12,
   "id": "28a2aff4-1ebb-4226-b463-c02ade1933a0",
   "metadata": {},
   "outputs": [
    {
     "name": "stdin",
     "output_type": "stream",
     "text": [
      "enter a number: 8\n",
      "enter another number: 9\n"
     ]
    },
    {
     "name": "stdout",
     "output_type": "stream",
     "text": [
      "17\n",
      "the total is:number\n"
     ]
    }
   ],
   "source": [
    "# add 2 numbers using user input\n",
    "x= input(\"enter a number:\")\n",
    "y= input(\"enter another number:\")\n",
    "z= int(x)+int(y)\n",
    "print(z)\n",
    "print(\"the total is:\" + \"number\")"
   ]
  },
  {
   "cell_type": "code",
   "execution_count": 8,
   "id": "287f0a24-16c0-4282-819c-69fcf9da346e",
   "metadata": {},
   "outputs": [
    {
     "name": "stdout",
     "output_type": "stream",
     "text": [
      "True\n",
      "True\n",
      "False\n",
      "True\n"
     ]
    }
   ],
   "source": [
    "# write a palindrome function\n",
    "\n",
    "def myfunction(sequence):\n",
    "    return sequence == sequence[::-1]\n",
    "#myfunction(\"radar\")\n",
    "print(myfunction(\"radar\"))\n",
    "print(myfunction([12312]))\n",
    "\n",
    "#check a number by converting it into a string:\n",
    "print(myfunction(str(12312)))\n",
    "print(myfunction(str(12321)))"
   ]
  },
  {
   "cell_type": "code",
   "execution_count": 9,
   "id": "7d90f198-85c6-4b58-bed9-b9dacd2b30b5",
   "metadata": {},
   "outputs": [
    {
     "name": "stdout",
     "output_type": "stream",
     "text": [
      "True\n"
     ]
    }
   ],
   "source": [
    "def mypalindrome(sequence):\n",
    "    return sequence==sequence[::-1]\n",
    "print(mypalindrome(\"radar\"))"
   ]
  },
  {
   "cell_type": "code",
   "execution_count": null,
   "id": "de010ab9-a269-4035-9985-2168ee598dcb",
   "metadata": {},
   "outputs": [],
   "source": []
  }
 ],
 "metadata": {
  "kernelspec": {
   "display_name": "Python 3 (ipykernel)",
   "language": "python",
   "name": "python3"
  },
  "language_info": {
   "codemirror_mode": {
    "name": "ipython",
    "version": 3
   },
   "file_extension": ".py",
   "mimetype": "text/x-python",
   "name": "python",
   "nbconvert_exporter": "python",
   "pygments_lexer": "ipython3",
   "version": "3.12.7"
  }
 },
 "nbformat": 4,
 "nbformat_minor": 5
}
