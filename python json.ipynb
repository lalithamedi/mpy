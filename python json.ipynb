{
 "cells": [
  {
   "cell_type": "code",
   "execution_count": 9,
   "id": "f66d70d9-0196-4287-aec8-b26b0dcd9ffb",
   "metadata": {},
   "outputs": [
    {
     "name": "stdout",
     "output_type": "stream",
     "text": [
      "{'name': 'lalitha', 'age': 56}\n"
     ]
    }
   ],
   "source": [
    "# JSON .... syntax for storing and exchanging data.. it is a text written in javascript object notation\n",
    "# python has a buit in package called json\n",
    "# to convert from json string into python object..... use loads()method\n",
    "import json\n",
    "x = '{\"name\" : \"lalitha\" , \"age\" : 56}'\n",
    "y= json.loads(x)\n",
    "print(y)\n"
   ]
  },
  {
   "cell_type": "code",
   "execution_count": 13,
   "id": "a2e45bfc-7974-46c8-ad48-0e213a2a3d4c",
   "metadata": {},
   "outputs": [
    {
     "name": "stdout",
     "output_type": "stream",
     "text": [
      "female\n"
     ]
    }
   ],
   "source": [
    "# json string to python object using loads\n",
    "import json\n",
    "x= '{\"age\" : 89 ,\"sex\":\"female\"}'\n",
    "y = json.loads(x)\n",
    "print(y[\"sex\"])\n"
   ]
  },
  {
   "cell_type": "code",
   "execution_count": 16,
   "id": "b8671dea-9c78-4ac2-8656-cbac923e20e2",
   "metadata": {},
   "outputs": [
    {
     "name": "stdout",
     "output_type": "stream",
     "text": [
      "{\"name\": \" apple\", \"age\": 78, \"sex\": \"female\"}\n"
     ]
    }
   ],
   "source": [
    "# convert from python object to json string using dumps() method\n",
    "import json\n",
    "x = {\n",
    "    \"name\" : \" apple\",\n",
    "    \"age\" : 78,\n",
    "    \"sex\" : \"female\"\n",
    "     }\n",
    "y = json.dumps(x)\n",
    "print(y)\n",
    "   "
   ]
  },
  {
   "cell_type": "code",
   "execution_count": null,
   "id": "403faef0-e50f-4fa6-9e02-203856e04d68",
   "metadata": {},
   "outputs": [],
   "source": [
    "#python objects can be string, list ,tuple,set,dict,bool, int, float,none etc"
   ]
  },
  {
   "cell_type": "code",
   "execution_count": 17,
   "id": "1788b7fb-39e3-4e8b-aaef-8dbcbf74a502",
   "metadata": {},
   "outputs": [
    {
     "name": "stdout",
     "output_type": "stream",
     "text": [
      "[\"apple\", \"cat\"]\n"
     ]
    }
   ],
   "source": [
    "import json\n",
    "x = (\"apple\",\"cat\")\n",
    "y= json.dumps(x)\n",
    "print(y)"
   ]
  },
  {
   "cell_type": "code",
   "execution_count": 18,
   "id": "dc7c8460-5b1a-411c-ac82-fc50b3c39373",
   "metadata": {},
   "outputs": [
    {
     "name": "stdout",
     "output_type": "stream",
     "text": [
      "[\"apple\", \"banana\", \"cherry\"]\n"
     ]
    }
   ],
   "source": [
    "# formatting the string : \n",
    "# json.dumps() method has many parameters to make it easier to read\n",
    "# 1. indentation:\n",
    "import json\n",
    "x= [\"apple\", \"banana\",\"cherry\"]\n",
    "y= json.dumps(x)\n",
    "print(y)"
   ]
  },
  {
   "cell_type": "code",
   "execution_count": 26,
   "id": "c814615c-f83e-417e-b669-8a7462448f8a",
   "metadata": {},
   "outputs": [
    {
     "name": "stdout",
     "output_type": "stream",
     "text": [
      "[\n",
      "    \"apple\",\n",
      "    \"banana\",\n",
      "    \"cherry\"\n",
      "]\n"
     ]
    }
   ],
   "source": [
    "import json\n",
    "x= [\"apple\", \"banana\",\"cherry\"]\n",
    "\n",
    "print(json.dumps(x, indent= 4))"
   ]
  },
  {
   "cell_type": "code",
   "execution_count": 29,
   "id": "4d8e29df-9d97-493a-9258-7ed62edef34e",
   "metadata": {},
   "outputs": [
    {
     "name": "stdout",
     "output_type": "stream",
     "text": [
      "{\n",
      "    \"name\": \"lalitha\",\n",
      "    \"age\": 89,\n",
      "    \"sex\": \"female\"\n",
      "}\n"
     ]
    }
   ],
   "source": [
    "import json\n",
    "x= {\n",
    "    \"name\":\"lalitha\",\n",
    "    \"age\": 89,\n",
    "    \"sex\" : \"female\"\n",
    "   }\n",
    "print(json.dumps(x, indent= 4))"
   ]
  },
  {
   "cell_type": "code",
   "execution_count": 34,
   "id": "cd260a19-f281-4df3-b357-6ff31a52d9ea",
   "metadata": {},
   "outputs": [
    {
     "name": "stdout",
     "output_type": "stream",
     "text": [
      "{\n",
      "    \"name\"= \"lalitha\". \n",
      "    \"age\"= 89. \n",
      "    \"sex\"= \"female\"\n",
      "}\n"
     ]
    }
   ],
   "source": [
    "# 2. separators:   default is \", \"  comma and space to seperate each object and\n",
    "                            #  \": \" colon and space to seperate keys and values\n",
    "import json\n",
    "x= {\n",
    "    \"name\":\"lalitha\",\n",
    "    \"age\": 89,\n",
    "    \"sex\" : \"female\"\n",
    "   }\n",
    "print(json.dumps(x, indent= 4, separators= (\". \", \"= \")))"
   ]
  },
  {
   "cell_type": "code",
   "execution_count": 37,
   "id": "9214eb94-65b9-4d0d-900b-17c62cccec58",
   "metadata": {},
   "outputs": [
    {
     "name": "stdout",
     "output_type": "stream",
     "text": [
      "{\n",
      "   \"age\" 89.\n",
      "   \"name\" \"lalitha\".\n",
      "   \"sex\" \"female\"\n",
      "}\n"
     ]
    }
   ],
   "source": [
    "# 3. sort_keys : to order the keys in the result   .... sorts the result alpahbetically by keys\n",
    "import json\n",
    "x= {\n",
    "    \"name\":\"lalitha\",\n",
    "    \"age\": 89,\n",
    "    \"sex\" : \"female\"\n",
    "   }\n",
    "print(json.dumps(x, indent = 3, separators= \". \", sort_keys = True))"
   ]
  },
  {
   "cell_type": "code",
   "execution_count": null,
   "id": "c46fc907-3753-445b-90fc-50e850af04f0",
   "metadata": {},
   "outputs": [],
   "source": [
    "# PYTHON RegEx REGULAR EXPRESSION.... IS a sequence of characters that form a search pattern\n",
    "\"\"\"\n",
    "used to check if a string contains the specified search pattern\n",
    "\n",
    "regex functions:\n",
    "\n",
    "1. findall .... returns a list containing all the matches\n",
    "2. search....... returns an match object if there is a match anywhere in the string... if more than 1 match is found only the first is returned\n",
    "3. split.........returns a list where the string is split at every match\n",
    "4. sub........... replaces one or many matches with a string\n",
    "\n",
    "metacharacters:\n",
    "\n",
    "[]  ... a set of characters\n",
    "{}..... a specified set of characters\n",
    ".  .... any charcter (except new line character)\n",
    "^  ..... starts with\n",
    "$ ...... ends with\n",
    "*   .... zero or more occurences\n",
    "? ...... zero or one occurence\n",
    "+  ..... one or more occurences\n",
    "|   ..... either or\n",
    "\n",
    "\n",
    "special sequences:\n",
    "\n",
    "\\A .. returns a match if the special characters are at the beginning of the string\n",
    "\\Z .. returns a match if the special charscers are at the end of the string\n",
    "\\b ...                                          are either at the beginning or end of the string\n",
    "\\B...                                           are not at the beginning or end of the string\n",
    "\\d ...returns a match if a string contains digits\n",
    "\\D....                            DOESNOT CONTAIN DIGITS\n",
    "\\s...                             contains whitespace charscters\n",
    "\\S...                             DOESNOT CONTAIN WHITESPACE CHARACTER\n",
    "\\w..                              contains word characters\n",
    "\\W..                               DOESNOT CONTAIN WORDS\n",
    "\n",
    "\"\"\""
   ]
  },
  {
   "cell_type": "code",
   "execution_count": 40,
   "id": "32431f04-82ee-4a50-ba75-0d44ab01e101",
   "metadata": {},
   "outputs": [
    {
     "name": "stdout",
     "output_type": "stream",
     "text": [
      "yes\n"
     ]
    }
   ],
   "source": [
    "# Search the string to see if it starts with \"The\" and ends with \"Spain\"\n",
    "import re\n",
    "x = \"The rain in Spain\"\n",
    "y = re.search(\"^The.*Spain$\", x)\n",
    "if y:\n",
    "  print(\"yes\")\n",
    "else:\n",
    "    print(\"no\")"
   ]
  },
  {
   "cell_type": "code",
   "execution_count": 41,
   "id": "7ff79eb2-3bc9-466a-b011-8797bd90b3f1",
   "metadata": {},
   "outputs": [
    {
     "name": "stdout",
     "output_type": "stream",
     "text": [
      "['in', 'in', 'in']\n"
     ]
    }
   ],
   "source": [
    "# to return a list containing all teh matches.. search \"in\" x\n",
    "x= \" The rain in Spain\"\n",
    "import re\n",
    "y = re.findall(\"in\" , x)\n",
    "print(y)\n"
   ]
  },
  {
   "cell_type": "code",
   "execution_count": 42,
   "id": "a6f8223a-8cb5-4c87-b8d0-c3bb23d07dda",
   "metadata": {},
   "outputs": [
    {
     "name": "stdout",
     "output_type": "stream",
     "text": [
      "[]\n"
     ]
    }
   ],
   "source": [
    "# search portugal in x.... if no match is found empty list is returned\n",
    "x= \" The rain in Spain\"\n",
    "import re\n",
    "y = re.findall(\"portugal\" , x)\n",
    "print(y)"
   ]
  },
  {
   "cell_type": "code",
   "execution_count": 47,
   "id": "f1f60014-9b6a-4f90-bc51-afdb84769a55",
   "metadata": {},
   "outputs": [
    {
     "name": "stdout",
     "output_type": "stream",
     "text": [
      "the first whitespace character is located in position: 3\n"
     ]
    },
    {
     "name": "stderr",
     "output_type": "stream",
     "text": [
      "<>:4: SyntaxWarning: invalid escape sequence '\\s'\n",
      "<>:4: SyntaxWarning: invalid escape sequence '\\s'\n",
      "C:\\Users\\Lalitha\\AppData\\Local\\Temp\\ipykernel_17764\\1111310450.py:4: SyntaxWarning: invalid escape sequence '\\s'\n",
      "  y = re.search(\"\\s\" , x)\n"
     ]
    }
   ],
   "source": [
    "#Search for the first white-space character in the string:\n",
    "x= \"The rain in Spain\"\n",
    "import re\n",
    "y = re.search(\"\\s\" , x)\n",
    "print(\"the first whitespace character is located in position:\" , y.start())"
   ]
  },
  {
   "cell_type": "code",
   "execution_count": 50,
   "id": "e1c35871-957d-44ac-8754-518dcdbe964f",
   "metadata": {},
   "outputs": [
    {
     "name": "stdout",
     "output_type": "stream",
     "text": [
      "['The', 'rain', 'in', 'Spain']\n"
     ]
    },
    {
     "name": "stderr",
     "output_type": "stream",
     "text": [
      "<>:4: SyntaxWarning: invalid escape sequence '\\s'\n",
      "<>:4: SyntaxWarning: invalid escape sequence '\\s'\n",
      "C:\\Users\\Lalitha\\AppData\\Local\\Temp\\ipykernel_17764\\676214894.py:4: SyntaxWarning: invalid escape sequence '\\s'\n",
      "  y = re.split(\"\\s\", x)\n"
     ]
    }
   ],
   "source": [
    "#Split at each white-space character:\n",
    "x= \"The rain in Spain\"\n",
    "import re\n",
    "y = re.split(\"\\s\", x)\n",
    "print(y)"
   ]
  },
  {
   "cell_type": "code",
   "execution_count": 51,
   "id": "528b5085-7332-4f51-9f5d-95deb96e3710",
   "metadata": {},
   "outputs": [
    {
     "name": "stdout",
     "output_type": "stream",
     "text": [
      "['The', 'rain in Spain']\n"
     ]
    },
    {
     "name": "stderr",
     "output_type": "stream",
     "text": [
      "<>:4: SyntaxWarning: invalid escape sequence '\\s'\n",
      "<>:4: SyntaxWarning: invalid escape sequence '\\s'\n",
      "C:\\Users\\Lalitha\\AppData\\Local\\Temp\\ipykernel_17764\\3428271191.py:4: SyntaxWarning: invalid escape sequence '\\s'\n",
      "  y= re.split(\"\\s\", x, 1)\n"
     ]
    }
   ],
   "source": [
    "# Split the string only at the first occurrence:  using maxsplit parameter\n",
    "import re\n",
    "x= \"The rain in Spain\"\n",
    "y= re.split(\"\\s\", x, 1)\n",
    "print(y)\n",
    "\n",
    " "
   ]
  },
  {
   "cell_type": "code",
   "execution_count": 56,
   "id": "01a985b1-1b5a-4dee-b38d-14d64b10a47e",
   "metadata": {},
   "outputs": [
    {
     "name": "stdout",
     "output_type": "stream",
     "text": [
      "The9rain9in9Spain\n"
     ]
    },
    {
     "name": "stderr",
     "output_type": "stream",
     "text": [
      "<>:4: SyntaxWarning: invalid escape sequence '\\s'\n",
      "<>:4: SyntaxWarning: invalid escape sequence '\\s'\n",
      "C:\\Users\\Lalitha\\AppData\\Local\\Temp\\ipykernel_17764\\936677999.py:4: SyntaxWarning: invalid escape sequence '\\s'\n",
      "  y= re.sub(\"\\s\", \"9\" , x)\n"
     ]
    }
   ],
   "source": [
    "#Replace every white-space character with the number 9:\n",
    "x= \"The rain in Spain\"\n",
    "import re\n",
    "y= re.sub(\"\\s\", \"9\" , x)\n",
    "print(y)\n"
   ]
  },
  {
   "cell_type": "code",
   "execution_count": 58,
   "id": "4bb8c099-d87f-4c63-9276-0656ffbf7a7d",
   "metadata": {},
   "outputs": [
    {
     "name": "stdout",
     "output_type": "stream",
     "text": [
      "The9rain9in Spain\n"
     ]
    },
    {
     "name": "stderr",
     "output_type": "stream",
     "text": [
      "<>:4: SyntaxWarning: invalid escape sequence '\\s'\n",
      "<>:4: SyntaxWarning: invalid escape sequence '\\s'\n",
      "C:\\Users\\Lalitha\\AppData\\Local\\Temp\\ipykernel_17764\\1126592973.py:4: SyntaxWarning: invalid escape sequence '\\s'\n",
      "  y= re.sub(\"\\s\", \"9\" , x , 2)\n"
     ]
    }
   ],
   "source": [
    "# replace in first 3 occurences\n",
    "x= \"The rain in Spain\"\n",
    "import re\n",
    "y= re.sub(\"\\s\", \"9\" , x , 2)\n",
    "print(y)"
   ]
  },
  {
   "cell_type": "code",
   "execution_count": null,
   "id": "bcc7b952-79a4-4e37-8aa4-2987f61577bd",
   "metadata": {},
   "outputs": [],
   "source": [
    "# PIP .... PACKAGE MANAGER FOR PYTHON PACKAGES/ PYTHON MODULES\n",
    "# MODULE... code library. a file cotaining all the functions to use in our application\n",
    "# txt = \"The rain in Spain\"......makes in capital letters starting word\n",
    "import camelcase\n",
    "y = camelcase.CamelCase()\n",
    "z= y.hump(txt)\n",
    "print(z)"
   ]
  },
  {
   "cell_type": "code",
   "execution_count": 64,
   "id": "b79dad93-8882-4ce8-b19e-92f5ecbc5a3f",
   "metadata": {},
   "outputs": [
    {
     "name": "stdin",
     "output_type": "stream",
     "text": [
      "enter an username: lalli\n"
     ]
    },
    {
     "name": "stdout",
     "output_type": "stream",
     "text": [
      "Username is:lalli\n"
     ]
    }
   ],
   "source": [
    "# user input:\n",
    "'''\n",
    "3.6 versions... input()method \n",
    "2.7 versions.... raw_input() method is used\n",
    "'''\n",
    "x= input(\"enter an username:\")\n",
    "print(\"Username is:\"+x)"
   ]
  },
  {
   "cell_type": "code",
   "execution_count": 66,
   "id": "dfeb9cb7-3bba-48fb-9a3f-453b671c0b82",
   "metadata": {},
   "outputs": [
    {
     "name": "stdin",
     "output_type": "stream",
     "text": [
      "enter any number: 89\n"
     ]
    },
    {
     "name": "stdout",
     "output_type": "stream",
     "text": [
      "the number to be considered is: 89\n"
     ]
    }
   ],
   "source": [
    "x= input(\"enter any number:\")\n",
    "print(\"the number to be considered is: \" + x)"
   ]
  }
 ],
 "metadata": {
  "kernelspec": {
   "display_name": "Python 3 (ipykernel)",
   "language": "python",
   "name": "python3"
  },
  "language_info": {
   "codemirror_mode": {
    "name": "ipython",
    "version": 3
   },
   "file_extension": ".py",
   "mimetype": "text/x-python",
   "name": "python",
   "nbconvert_exporter": "python",
   "pygments_lexer": "ipython3",
   "version": "3.12.7"
  }
 },
 "nbformat": 4,
 "nbformat_minor": 5
}
