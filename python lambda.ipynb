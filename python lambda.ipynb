{
 "cells": [
  {
   "cell_type": "code",
   "execution_count": 6,
   "id": "93368d4c-f17d-47ba-8565-88eeab178103",
   "metadata": {},
   "outputs": [
    {
     "name": "stdout",
     "output_type": "stream",
     "text": [
      "15\n"
     ]
    }
   ],
   "source": [
    "# lambda is an anonymous function... can have many arguments but only one expression\n",
    "x= lambda a:a+10\n",
    "print(x(5))"
   ]
  },
  {
   "cell_type": "code",
   "execution_count": 8,
   "id": "7a81d010-6527-409b-a806-6fa7fea3fd33",
   "metadata": {},
   "outputs": [
    {
     "name": "stdout",
     "output_type": "stream",
     "text": [
      "16\n"
     ]
    }
   ],
   "source": [
    "# add 10 to argument g and return the result\n",
    "x= lambda g:g+ 10\n",
    "print(x(6))"
   ]
  },
  {
   "cell_type": "code",
   "execution_count": 9,
   "id": "07eee602-6e90-4fe2-8249-cfdc517a3bcc",
   "metadata": {},
   "outputs": [
    {
     "name": "stdout",
     "output_type": "stream",
     "text": [
      "40\n"
     ]
    }
   ],
   "source": [
    "x= lambda a,b,c: a+b*c\n",
    "print(x(5,5,7))"
   ]
  },
  {
   "cell_type": "code",
   "execution_count": 13,
   "id": "6d8e53a0-b09b-4b7d-bb6b-bbc4d316a9fa",
   "metadata": {},
   "outputs": [
    {
     "name": "stdout",
     "output_type": "stream",
     "text": [
      "110\n"
     ]
    }
   ],
   "source": [
    "# function definition that takes one argument, and that argument will be multiplied with an unknown number:\n",
    "def myfunction(n):\n",
    "   return lambda a: a*n\n",
    "mydoubler = myfunction(2)\n",
    "print(mydoubler(55))"
   ]
  },
  {
   "cell_type": "code",
   "execution_count": 14,
   "id": "a225f8b9-7963-4328-89c3-2db8b2d22d85",
   "metadata": {},
   "outputs": [
    {
     "name": "stdout",
     "output_type": "stream",
     "text": [
      "165\n"
     ]
    }
   ],
   "source": [
    "def myfunc(n):\n",
    "    return lambda a: a*n\n",
    "mytripler = myfunc(3)\n",
    "print(mytripler(55))"
   ]
  },
  {
   "cell_type": "code",
   "execution_count": 16,
   "id": "fefddc92-7f05-414d-a09c-07890670db64",
   "metadata": {},
   "outputs": [
    {
     "name": "stdout",
     "output_type": "stream",
     "text": [
      "440\n"
     ]
    }
   ],
   "source": [
    "def myfunc(n):\n",
    "    return lambda a,b: a*n*b*n\n",
    "mydoubler= myfunc(2)\n",
    "print(mydoubler(22,5))"
   ]
  },
  {
   "cell_type": "code",
   "execution_count": 17,
   "id": "127a0cbc-19d4-45e3-ae93-18be8b3c530f",
   "metadata": {},
   "outputs": [
    {
     "name": "stdout",
     "output_type": "stream",
     "text": [
      "68\n",
      "5\n"
     ]
    }
   ],
   "source": [
    "def myfunc(n):\n",
    "    return lambda a: a+n\n",
    "mydoubler= myfunc(2)\n",
    "mytripler= myfunc(3)\n",
    "print(mydoubler(66))\n",
    "print(mytripler(2))"
   ]
  },
  {
   "cell_type": "code",
   "execution_count": 18,
   "id": "175da2f4-1624-45b0-b085-dc3d826d58ab",
   "metadata": {},
   "outputs": [],
   "source": [
    "  # PYTHON CLASSES / OBJECT\n",
    "'''\n",
    "PYTHON IS A  object oriented programming language\n",
    "class is an object constructor/ blue print for creating objects\n",
    "'''\n",
    "class myclass():\n",
    "    x= 7"
   ]
  },
  {
   "cell_type": "code",
   "execution_count": 19,
   "id": "46d255dd-67b0-4752-9a97-cad61cd09ffd",
   "metadata": {},
   "outputs": [
    {
     "name": "stdout",
     "output_type": "stream",
     "text": [
      "7\n"
     ]
    }
   ],
   "source": [
    "object= myclass()\n",
    "print(object.x)"
   ]
  },
  {
   "cell_type": "code",
   "execution_count": 21,
   "id": "596262de-9f43-40b3-9729-c32984d86a43",
   "metadata": {},
   "outputs": [
    {
     "name": "stdout",
     "output_type": "stream",
     "text": [
      "lalitha\n",
      "28\n"
     ]
    }
   ],
   "source": [
    "# class has a built in function called __init__() ... used to assign values to object properties\n",
    "class teacher():\n",
    "    def __init__(self,name,age):\n",
    "        self.name = name\n",
    "        self.age = age\n",
    "o = teacher(\"lalitha\", 28)\n",
    "print(o.name)\n",
    "print(o.age)\n",
    "    "
   ]
  },
  {
   "cell_type": "code",
   "execution_count": 25,
   "id": "6fd25a78-7c8e-4426-885b-4a2117dfa233",
   "metadata": {},
   "outputs": [
    {
     "name": "stdout",
     "output_type": "stream",
     "text": [
      "lalitha(67)\n"
     ]
    }
   ],
   "source": [
    "# the string representation of an object with __str__() function\n",
    "class teacher():\n",
    "    def __init__(self,name,age):\n",
    "        self.name= name\n",
    "        self.age=age\n",
    "    def __str__(self):\n",
    "        return f\"{self.name}({self.age})\"\n",
    "p1 = teacher(\"lalitha\", 67)\n",
    "print(p1)"
   ]
  },
  {
   "cell_type": "code",
   "execution_count": 36,
   "id": "c8b174bc-b12e-4e42-9ebe-6c3ccdc21fcb",
   "metadata": {},
   "outputs": [
    {
     "name": "stdout",
     "output_type": "stream",
     "text": [
      "hello my name is kevin\n"
     ]
    }
   ],
   "source": [
    "# object methods \n",
    "# Insert a function that prints a greeting, and execute it on the p1 object\n",
    "class person():\n",
    "    def __init__(self,name,age):\n",
    "        self.name= name\n",
    "        self.age= age\n",
    "    def myfunc(self):\n",
    "        print(\"hello my name is \" + self.name)\n",
    "p1 = person(\"kevin\",25)\n",
    "p1.myfunc()\n"
   ]
  },
  {
   "cell_type": "code",
   "execution_count": 37,
   "id": "93568289-6751-47a3-b8be-8238327dfb79",
   "metadata": {},
   "outputs": [],
   "source": [
    "p1 .age = 58"
   ]
  },
  {
   "cell_type": "code",
   "execution_count": 38,
   "id": "3dd3158a-e597-4901-8443-caa04b7d5039",
   "metadata": {},
   "outputs": [],
   "source": [
    "del p1.age\n"
   ]
  },
  {
   "cell_type": "code",
   "execution_count": null,
   "id": "3a5850a5-0498-4fe1-954e-98d482a41cb2",
   "metadata": {},
   "outputs": [],
   "source": [
    "del p1"
   ]
  },
  {
   "cell_type": "code",
   "execution_count": 40,
   "id": "bd5a8b5b-0a1a-4b9d-9b58-4708f8db16e3",
   "metadata": {},
   "outputs": [],
   "source": [
    "class myclass(): \n",
    "  pass"
   ]
  },
  {
   "cell_type": "code",
   "execution_count": 44,
   "id": "105c4481-d7ba-43cf-91ac-dfbe3d2d97c8",
   "metadata": {},
   "outputs": [
    {
     "name": "stdout",
     "output_type": "stream",
     "text": [
      "john(89)\n"
     ]
    }
   ],
   "source": [
    "class person():\n",
    "    def __init__(self,name,age):\n",
    "        self.name= name\n",
    "        self.age=age\n",
    "    def __str__(self):\n",
    "        return f\"{self.name}({self.age})\"\n",
    "p1 = person (\"john\", 89)\n",
    "print(p1)\n",
    "        "
   ]
  },
  {
   "cell_type": "code",
   "execution_count": 48,
   "id": "8afc10d2-9b9f-49b8-96c5-2caa073b2771",
   "metadata": {},
   "outputs": [
    {
     "name": "stdout",
     "output_type": "stream",
     "text": [
      " i am fiona, and my sex is female\n"
     ]
    }
   ],
   "source": [
    "class teacher():\n",
    "    def __init__(self,name,sex):\n",
    "        self.name=name\n",
    "        self.sex= sex\n",
    "    def myfunction(self):\n",
    "        print(\" i am fiona, and my sex is \" + self.sex)\n",
    "p1 = teacher (\"fiona\",\"female\")\n",
    "p1.myfunction()"
   ]
  },
  {
   "cell_type": "code",
   "execution_count": 50,
   "id": "67b67e00-b50a-40a4-86e2-33259b5a5356",
   "metadata": {},
   "outputs": [
    {
     "name": "stdout",
     "output_type": "stream",
     "text": [
      " iam a women and my name is  kamala\n"
     ]
    }
   ],
   "source": [
    " # PYTHON INHERITANCE.... used to define a class that inherits all the properties and methods from another class\n",
    "# child class / derived class... which inherits from another class'\n",
    "# parent class/ base class.... which is inherited from\n",
    "\n",
    "class student():\n",
    "    def __init__(self,name,age):\n",
    "        self.name= name\n",
    "        self.age=age\n",
    "    def printname(self):\n",
    "        print(\" iam a women and my name is \"+self.name )\n",
    "x = student (\" kamala\", 78)\n",
    "x.printname()"
   ]
  },
  {
   "cell_type": "code",
   "execution_count": 72,
   "id": "40a6848d-fb53-442e-9a6e-a946b8eb7619",
   "metadata": {},
   "outputs": [
    {
     "name": "stdout",
     "output_type": "stream",
     "text": [
      "Welcome Mike Olsen to the class of 2024\n"
     ]
    }
   ],
   "source": [
    "class Person:\n",
    "  def __init__(self, fname, lname):\n",
    "    self.firstname = fname\n",
    "    self.lastname = lname\n",
    "\n",
    "  def printname(self):\n",
    "    print(self.firstname, self.lastname)\n",
    "\n",
    "class Student(Person):\n",
    "  def __init__(self, fname, lname, year):\n",
    "    super().__init__(fname, lname)\n",
    "    self.graduationyear = year\n",
    "\n",
    "  def welcome(self):\n",
    "    print(\"Welcome\", self.firstname, self.lastname, \"to the class of\", self.graduationyear)\n",
    "\n",
    "x = Student(\"Mike\", \"Olsen\", 2024)\n",
    "x.welcome()\n"
   ]
  },
  {
   "cell_type": "code",
   "execution_count": 73,
   "id": "a0d47444-47f3-40e4-9c5f-0f8ae61c1a7d",
   "metadata": {},
   "outputs": [
    {
     "name": "stdout",
     "output_type": "stream",
     "text": [
      "apple\n",
      "banana\n",
      "cherry\n"
     ]
    }
   ],
   "source": [
    "#   ITERATORS .... object that contains countable number of values\n",
    "               # is an object that can be iterated upon, traverse through all the values\n",
    "mytuple = (\"apple\",\"banana\",\"cherry\")\n",
    "for x in mytuple:\n",
    "    print(x)"
   ]
  },
  {
   "cell_type": "code",
   "execution_count": 75,
   "id": "7c93b4fe-5069-4b85-bbdf-7702ff545805",
   "metadata": {},
   "outputs": [
    {
     "name": "stdout",
     "output_type": "stream",
     "text": [
      "apple\n",
      "banana\n",
      "cherry\n"
     ]
    }
   ],
   "source": [
    "myiter= iter(mytuple)\n",
    "print(next(myiter))\n",
    "print(next(myiter))\n",
    "print(next(myiter))"
   ]
  },
  {
   "cell_type": "code",
   "execution_count": 77,
   "id": "152039c8-d170-4aaf-8e97-ad1a93fb1de0",
   "metadata": {},
   "outputs": [
    {
     "name": "stdout",
     "output_type": "stream",
     "text": [
      "b\n",
      "a\n",
      "n\n"
     ]
    }
   ],
   "source": [
    "str= \"bannan\"\n",
    "y= iter(str)\n",
    "print(next(y))\n",
    "print(next(y))\n",
    "print(next(y))"
   ]
  },
  {
   "cell_type": "code",
   "execution_count": 81,
   "id": "35744e24-fae9-4f29-bf69-81ce90523ab0",
   "metadata": {},
   "outputs": [
    {
     "name": "stdout",
     "output_type": "stream",
     "text": [
      "1\n",
      "2\n",
      "3\n"
     ]
    }
   ],
   "source": [
    "#To create an object/class as an iterator you have to implement the methods __iter__() and __next__() to your object.\n",
    "#Create an iterator that returns numbers, starting with 1, and each sequence will increase by one (returning 1,2,3,4,5 etc.):\n",
    "class myclass():\n",
    "    def __iter__(self):\n",
    "        self.a = 1\n",
    "        return self\n",
    "    def __next__(self):\n",
    "        x= self. a\n",
    "        self.a += 1\n",
    "        return x\n",
    "my = myclass()\n",
    "y = iter(my)\n",
    "print(next(y))\n",
    "print(next(y))\n",
    "print(next(y))"
   ]
  },
  {
   "cell_type": "code",
   "execution_count": 83,
   "id": "252579cd-d3fd-44c2-b9d5-3bc0910321b0",
   "metadata": {},
   "outputs": [
    {
     "name": "stdout",
     "output_type": "stream",
     "text": [
      "1\n",
      "2\n",
      "3\n",
      "4\n"
     ]
    }
   ],
   "source": [
    "class person():\n",
    "    def __iter__(self):\n",
    "        self. a= 1\n",
    "        return self\n",
    "    def __next__(self):\n",
    "        x= self. a\n",
    "        self.a +=1\n",
    "        return x\n",
    "candy= person()\n",
    "sandy= iter(candy)\n",
    "print(next(sandy))\n",
    "print(next(sandy))\n",
    "print(next(sandy))\n",
    "print(next(sandy))\n",
    "\n",
    "        "
   ]
  },
  {
   "cell_type": "code",
   "execution_count": 1,
   "id": "49c5b186-52c2-4bcf-a137-a32213c51ea2",
   "metadata": {},
   "outputs": [
    {
     "name": "stdout",
     "output_type": "stream",
     "text": [
      "1\n"
     ]
    }
   ],
   "source": [
    "class person():\n",
    "    def __iter__(self):\n",
    "        self. a= 1\n",
    "        return self\n",
    "    def __next__(self):\n",
    "        x= self. a\n",
    "        self.a +=1\n",
    "        return x\n",
    "candy= person()\n",
    "sandy= iter(candy)\n",
    "print(next(sandy))\n"
   ]
  },
  {
   "cell_type": "code",
   "execution_count": 2,
   "id": "0c6b72ef-6117-4080-be70-b78479577d72",
   "metadata": {},
   "outputs": [
    {
     "name": "stdout",
     "output_type": "stream",
     "text": [
      "1\n",
      "2\n",
      "3\n",
      "4\n",
      "5\n",
      "6\n",
      "7\n",
      "8\n",
      "9\n",
      "10\n",
      "11\n",
      "12\n",
      "13\n",
      "14\n",
      "15\n",
      "16\n",
      "17\n",
      "18\n",
      "19\n",
      "20\n"
     ]
    }
   ],
   "source": [
    "# to stop iteration after 20 numbers:\n",
    "class person():\n",
    "    def __iter__(self):\n",
    "        self. a= 1\n",
    "        return self\n",
    "    def __next__(self):\n",
    "        if self.a <= 20:\n",
    "          x= self. a\n",
    "          self.a +=1\n",
    "          return x\n",
    "        else:\n",
    "            raise StopIteration\n",
    "candy= person()\n",
    "sandy= iter(candy)\n",
    "for z in sandy:\n",
    "    print(z)\n"
   ]
  },
  {
   "cell_type": "code",
   "execution_count": 5,
   "id": "35cc26da-547f-4c0d-865f-bf4f07d38da2",
   "metadata": {},
   "outputs": [
    {
     "name": "stdout",
     "output_type": "stream",
     "text": [
      "2\n"
     ]
    }
   ],
   "source": [
    "    # POLYMORPHISM:   MANY FORMS.... \n",
    "   # refers to functions/ methods/operations with the same name that can be executed on many classes or objects\n",
    "  # 3 types:   function polymorphism ..... use len() method to determine the no of iyems\n",
    "tuple= (\"apple\",\"bay\")\n",
    "print(len(tuple))"
   ]
  },
  {
   "cell_type": "code",
   "execution_count": 9,
   "id": "c4866896-0bd5-4cec-be72-e927cb50d1e0",
   "metadata": {},
   "outputs": [
    {
     "name": "stdout",
     "output_type": "stream",
     "text": [
      "road\n",
      "water\n",
      "sky\n"
     ]
    }
   ],
   "source": [
    "# class polymorphism:  we can have multiple classes with the same method name\n",
    "#say we have three classes: Car, Boat, and Plane, and they all have a method called move():\n",
    "class car():\n",
    "    def __init__(self,brand,model):\n",
    "        self.brand= brand\n",
    "        self.model= model\n",
    "    def move(self):\n",
    "        print(\"road\")\n",
    "class boat():\n",
    "    def __init__(self,brand,model):\n",
    "        self.brand= brand\n",
    "        self.model= model\n",
    "    def move(self):\n",
    "        print(\"water\")\n",
    "class plane():\n",
    "    def __init__(self,brand,model):\n",
    "        self.brand= brand\n",
    "        self.model= model\n",
    "    def move(self):\n",
    "        print(\"sky\")\n",
    "car1= car(\"bmw\",\"electric\")\n",
    "boat1= boat(\"duck\",\"cruise\")\n",
    "plane1= plne(\"boeing\",747)\n",
    "for x in (car1, boat1, plane1):\n",
    "    x.move()"
   ]
  },
  {
   "cell_type": "code",
   "execution_count": 12,
   "id": "762dfb73-44cd-44b3-867e-ded7a73d3bc1",
   "metadata": {},
   "outputs": [
    {
     "name": "stdout",
     "output_type": "stream",
     "text": [
      "bmw\n",
      "electric\n",
      "flat road\n",
      "duck\n",
      "cruise\n",
      "ride\n",
      "boeing\n",
      "747\n",
      "fly\n"
     ]
    }
   ],
   "source": [
    "# inheritance class polymorphism\n",
    "#What about classes with child classes with the same name? Can we use polymorphism there?\n",
    "'''\n",
    "Yes. If we use the example above and make a parent class called Vehicle, and make Car, Boat, Plane child classes of Vehicle,\n",
    "the child classes inherits the Vehicle methods, but can override them:\n",
    "\n",
    "Example\n",
    "Create a class called Vehicle and make Car, Boat, Plane child classes of Vehicle:\n",
    "'''\n",
    "class vehicle():\n",
    "    def __init__(self,brand,model):\n",
    "        self.brand= brand\n",
    "        self.model = model\n",
    "    def move(self):\n",
    "        print(\"flat road\")\n",
    "class car(vehicle):\n",
    "    pass\n",
    "class boat(vehicle):\n",
    "    def move(self):\n",
    "        print(\"ride\")\n",
    "class plane(vehicle):\n",
    "    def move(self):\n",
    "        print(\"fly\")\n",
    "car1= car(\"bmw\",\"electric\")\n",
    "boat1= boat(\"duck\",\"cruise\")\n",
    "plane1= plane(\"boeing\",747)\n",
    "for x in (car1,boat1,plane1):\n",
    "    print(x.brand)\n",
    "    print(x.model)\n",
    "    x.move()\n",
    "'''\n",
    "In the example above you can see that the Car class is empty, but it inherits brand, model, and move() from Vehicle.\n",
    "\n",
    "The Boat and Plane classes also inherit brand, model, and move() from Vehicle, but they both override the move() method.\n",
    "\n",
    "Because of polymorphism we can execute the same method for all classes.\n",
    "'''"
   ]
  },
  {
   "cell_type": "code",
   "execution_count": null,
   "id": "55c2d91a-9599-4f7d-a06a-3cb6d3164b97",
   "metadata": {},
   "outputs": [],
   "source": []
  }
 ],
 "metadata": {
  "kernelspec": {
   "display_name": "Python 3 (ipykernel)",
   "language": "python",
   "name": "python3"
  },
  "language_info": {
   "codemirror_mode": {
    "name": "ipython",
    "version": 3
   },
   "file_extension": ".py",
   "mimetype": "text/x-python",
   "name": "python",
   "nbconvert_exporter": "python",
   "pygments_lexer": "ipython3",
   "version": "3.12.7"
  }
 },
 "nbformat": 4,
 "nbformat_minor": 5
}
