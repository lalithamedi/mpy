{
 "cells": [
  {
   "cell_type": "code",
   "execution_count": 2,
   "id": "9233aff7-cacf-4bc5-968f-b57aa85cf651",
   "metadata": {},
   "outputs": [
    {
     "data": {
      "text/plain": [
       "[]"
      ]
     },
     "execution_count": 2,
     "metadata": {},
     "output_type": "execute_result"
    }
   ],
   "source": [
    "# list \n",
    "# empty list creation \n",
    "x = []\n",
    "x= list()\n",
    "x\n"
   ]
  },
  {
   "cell_type": "code",
   "execution_count": 3,
   "id": "aba7256b-cc43-4db8-8389-6f798b7985b1",
   "metadata": {},
   "outputs": [
    {
     "data": {
      "text/plain": [
       "list"
      ]
     },
     "execution_count": 3,
     "metadata": {},
     "output_type": "execute_result"
    }
   ],
   "source": [
    "y=type(x)\n",
    "y"
   ]
  },
  {
   "cell_type": "code",
   "execution_count": 4,
   "id": "00d2fa58-3379-4a56-924c-2a8b940d4898",
   "metadata": {},
   "outputs": [
    {
     "data": {
      "text/plain": [
       "[1, 'apple']"
      ]
     },
     "execution_count": 4,
     "metadata": {},
     "output_type": "execute_result"
    }
   ],
   "source": [
    "z= [1,2,3]\n",
    "z= [\"apple\",\"boy\"]\n",
    "z=[1,\"apple\"]\n",
    "z"
   ]
  },
  {
   "cell_type": "code",
   "execution_count": 5,
   "id": "54d6ea5e-d9fe-4e53-882e-cdeeeeeddb4d",
   "metadata": {},
   "outputs": [
    {
     "data": {
      "text/plain": [
       "[11, 22, [33, 66]]"
      ]
     },
     "execution_count": 5,
     "metadata": {},
     "output_type": "execute_result"
    }
   ],
   "source": [
    "x= [11,22,[33,66]]           # a list can have another list as an element\n",
    "x"
   ]
  },
  {
   "cell_type": "code",
   "execution_count": 6,
   "id": "9408a179-7450-487b-9f1b-49b71f1cc24a",
   "metadata": {},
   "outputs": [
    {
     "data": {
      "text/plain": [
       "5"
      ]
     },
     "execution_count": 6,
     "metadata": {},
     "output_type": "execute_result"
    }
   ],
   "source": [
    "# list length\n",
    "list= [11,22,48,57,67]\n",
    "x=len(list)\n",
    "x"
   ]
  },
  {
   "cell_type": "code",
   "execution_count": 7,
   "id": "2def564a-f9f6-49a2-8426-f1e524973648",
   "metadata": {},
   "outputs": [
    {
     "data": {
      "text/plain": [
       "int"
      ]
     },
     "execution_count": 7,
     "metadata": {},
     "output_type": "execute_result"
    }
   ],
   "source": [
    "type(x)"
   ]
  },
  {
   "cell_type": "code",
   "execution_count": 8,
   "id": "e74aae07-9d15-4c68-ae55-f335d931974a",
   "metadata": {},
   "outputs": [
    {
     "data": {
      "text/plain": [
       "['apple', 'boy', 'cat', 1, 45, 'cat']"
      ]
     },
     "execution_count": 8,
     "metadata": {},
     "output_type": "execute_result"
    }
   ],
   "source": [
    "# append ;;;;; add at the end\n",
    "lst= [\"apple\",\"boy\",\"cat\",1,45]\n",
    "lst.append(\"cat\")\n",
    "lst"
   ]
  },
  {
   "cell_type": "code",
   "execution_count": 12,
   "id": "895a2d06-c137-4121-87e0-883e2d8da683",
   "metadata": {},
   "outputs": [
    {
     "data": {
      "text/plain": [
       "'apple'"
      ]
     },
     "execution_count": 12,
     "metadata": {},
     "output_type": "execute_result"
    }
   ],
   "source": [
    "# insert at the specified index no\n",
    "\n",
    "lst= [\"apple\",\"boy\",\"cat\",1,45]\n",
    "lst[0]\n"
   ]
  },
  {
   "cell_type": "code",
   "execution_count": 13,
   "id": "ee296815-db53-4860-9f8d-af52e697a4fc",
   "metadata": {},
   "outputs": [
    {
     "data": {
      "text/plain": [
       "['apple', 'boy', 'cat', 'pumpkin', 1, 45]"
      ]
     },
     "execution_count": 13,
     "metadata": {},
     "output_type": "execute_result"
    }
   ],
   "source": [
    "lst.insert(3,\"pumpkin\")\n",
    "lst"
   ]
  },
  {
   "cell_type": "code",
   "execution_count": 14,
   "id": "a70ef141-3c35-40cb-ae9a-73714be690bf",
   "metadata": {},
   "outputs": [
    {
     "data": {
      "text/plain": [
       "['apple', 'boy', 'cat', 'pumpkin', 'doni', 1, 45]"
      ]
     },
     "execution_count": 14,
     "metadata": {},
     "output_type": "execute_result"
    }
   ],
   "source": [
    "lst.insert(4,\"doni\")\n",
    "lst"
   ]
  },
  {
   "cell_type": "code",
   "execution_count": 15,
   "id": "18a5b925-6bf6-414a-b2bb-996da7286104",
   "metadata": {},
   "outputs": [
    {
     "data": {
      "text/plain": [
       "['apple', 'cat', 1, 45]"
      ]
     },
     "execution_count": 15,
     "metadata": {},
     "output_type": "execute_result"
    }
   ],
   "source": [
    "# remove\n",
    "lst= [\"apple\",\"boy\",\"cat\",1,45]\n",
    "lst.remove(\"boy\")\n",
    "lst\n"
   ]
  },
  {
   "cell_type": "code",
   "execution_count": 17,
   "id": "ff74b646-164e-44f1-9bc0-a0ec64afd3e2",
   "metadata": {},
   "outputs": [
    {
     "data": {
      "text/plain": [
       "['apple', 45]"
      ]
     },
     "execution_count": 17,
     "metadata": {},
     "output_type": "execute_result"
    }
   ],
   "source": [
    "del lst [1]\n",
    "lst"
   ]
  },
  {
   "cell_type": "code",
   "execution_count": 21,
   "id": "8e6ea405-3054-4b2c-8a83-d84863d57749",
   "metadata": {},
   "outputs": [
    {
     "data": {
      "text/plain": [
       "[1, 56, 78]"
      ]
     },
     "execution_count": 21,
     "metadata": {},
     "output_type": "execute_result"
    }
   ],
   "source": [
    "lst=[1,34,56,78]\n",
    "del lst[1]\n",
    "lst"
   ]
  },
  {
   "cell_type": "code",
   "execution_count": 22,
   "id": "e93e4bbc-a485-4735-9f1b-d07bd2a526b4",
   "metadata": {},
   "outputs": [
    {
     "data": {
      "text/plain": [
       "[]"
      ]
     },
     "execution_count": 22,
     "metadata": {},
     "output_type": "execute_result"
    }
   ],
   "source": [
    "lst.clear()\n",
    "lst"
   ]
  },
  {
   "cell_type": "code",
   "execution_count": 23,
   "id": "166f9c9f-9171-43bc-a561-a9977a8e2fd2",
   "metadata": {},
   "outputs": [
    {
     "ename": "NameError",
     "evalue": "name 'lst' is not defined",
     "output_type": "error",
     "traceback": [
      "\u001b[1;31m---------------------------------------------------------------------------\u001b[0m",
      "\u001b[1;31mNameError\u001b[0m                                 Traceback (most recent call last)",
      "Cell \u001b[1;32mIn[23], line 2\u001b[0m\n\u001b[0;32m      1\u001b[0m \u001b[38;5;28;01mdel\u001b[39;00m lst\n\u001b[1;32m----> 2\u001b[0m lst\n",
      "\u001b[1;31mNameError\u001b[0m: name 'lst' is not defined"
     ]
    }
   ],
   "source": [
    "del lst\n",
    "lst"
   ]
  },
  {
   "cell_type": "code",
   "execution_count": 26,
   "id": "7e9bf9a6-aeaa-432d-8592-eaa08d9495eb",
   "metadata": {},
   "outputs": [
    {
     "data": {
      "text/plain": [
       "[1, 34, 67, 56, 98, 7]"
      ]
     },
     "execution_count": 26,
     "metadata": {},
     "output_type": "execute_result"
    }
   ],
   "source": [
    "# extend method\n",
    "x= [1,34,67]\n",
    "y= [56,98,7]\n",
    "x.extend(y)\n",
    "x"
   ]
  },
  {
   "cell_type": "code",
   "execution_count": 27,
   "id": "12fc67f0-5e1b-415f-8f04-89ad34774333",
   "metadata": {},
   "outputs": [
    {
     "data": {
      "text/plain": [
       "[1, 34, 67, 56, 98, 7]"
      ]
     },
     "execution_count": 27,
     "metadata": {},
     "output_type": "execute_result"
    }
   ],
   "source": [
    "x= [1,34,67]\n",
    "y= [56,98,7]\n",
    "x+y"
   ]
  },
  {
   "cell_type": "code",
   "execution_count": 28,
   "id": "f85c6cf6-eb05-43cb-b58f-f596758ec27b",
   "metadata": {},
   "outputs": [
    {
     "data": {
      "text/plain": [
       "True"
      ]
     },
     "execution_count": 28,
     "metadata": {},
     "output_type": "execute_result"
    }
   ],
   "source": [
    "# in operator\n",
    "x= [1,34,67]\n",
    "34 in x\n"
   ]
  },
  {
   "cell_type": "code",
   "execution_count": 29,
   "id": "9c494265-e89a-4116-a980-aa7b9e0746d2",
   "metadata": {},
   "outputs": [
    {
     "data": {
      "text/plain": [
       "False"
      ]
     },
     "execution_count": 29,
     "metadata": {},
     "output_type": "execute_result"
    }
   ],
   "source": [
    "78 in x"
   ]
  },
  {
   "cell_type": "code",
   "execution_count": 31,
   "id": "123ab782-d7a8-4a5d-ba11-6c1adb3a63d7",
   "metadata": {},
   "outputs": [
    {
     "data": {
      "text/plain": [
       "[7, 98, 56]"
      ]
     },
     "execution_count": 31,
     "metadata": {},
     "output_type": "execute_result"
    }
   ],
   "source": [
    "# reverse a list\n",
    "y= [56,98,7]\n",
    "y.reverse()\n",
    "y"
   ]
  },
  {
   "cell_type": "code",
   "execution_count": 32,
   "id": "37857176-ca6e-4776-beb4-a9211ceceb89",
   "metadata": {},
   "outputs": [
    {
     "data": {
      "text/plain": [
       "56"
      ]
     },
     "execution_count": 32,
     "metadata": {},
     "output_type": "execute_result"
    }
   ],
   "source": [
    "# operations\n",
    "x=[76,89,56,2334,56]\n",
    "min(x)"
   ]
  },
  {
   "cell_type": "code",
   "execution_count": 33,
   "id": "33738b0c-9f33-4221-8415-17f3cb5d1366",
   "metadata": {},
   "outputs": [
    {
     "data": {
      "text/plain": [
       "2334"
      ]
     },
     "execution_count": 33,
     "metadata": {},
     "output_type": "execute_result"
    }
   ],
   "source": [
    "max(x)"
   ]
  },
  {
   "cell_type": "code",
   "execution_count": 34,
   "id": "db18effd-a944-4518-a5e8-7936262d47ed",
   "metadata": {},
   "outputs": [
    {
     "data": {
      "text/plain": [
       "2611"
      ]
     },
     "execution_count": 34,
     "metadata": {},
     "output_type": "execute_result"
    }
   ],
   "source": [
    "sum(x)"
   ]
  },
  {
   "cell_type": "code",
   "execution_count": 36,
   "id": "5c228b74-ce22-4dbe-967f-d70f4d83de5f",
   "metadata": {},
   "outputs": [
    {
     "data": {
      "text/plain": [
       "[56, 56, 76, 89, 2334]"
      ]
     },
     "execution_count": 36,
     "metadata": {},
     "output_type": "execute_result"
    }
   ],
   "source": [
    "# sort\n",
    "x=[76,89,56,2334,56]\n",
    "x.sort()\n",
    "x"
   ]
  },
  {
   "cell_type": "code",
   "execution_count": 41,
   "id": "cb105fd0-fadf-4361-91b7-4762bf604173",
   "metadata": {},
   "outputs": [
    {
     "data": {
      "text/plain": [
       "[2334, 89, 76, 56, 56]"
      ]
     },
     "execution_count": 41,
     "metadata": {},
     "output_type": "execute_result"
    }
   ],
   "source": [
    "x.sort(reverse=True)\n",
    "x"
   ]
  },
  {
   "cell_type": "code",
   "execution_count": 43,
   "id": "e4ffda9a-2e52-4ddc-8e4c-cdc719219b35",
   "metadata": {},
   "outputs": [
    {
     "data": {
      "text/plain": [
       "[76, 89, 56, 2334, 56]"
      ]
     },
     "execution_count": 43,
     "metadata": {},
     "output_type": "execute_result"
    }
   ],
   "source": [
    "x=[76,89,56,2334,56]\n",
    "y=x\n",
    "y"
   ]
  },
  {
   "cell_type": "code",
   "execution_count": 48,
   "id": "9b153973-51e8-41cc-a1b8-4a7eb66bb881",
   "metadata": {},
   "outputs": [
    {
     "data": {
      "text/plain": [
       "['hi', 'i', 'love', 'u']"
      ]
     },
     "execution_count": 48,
     "metadata": {},
     "output_type": "execute_result"
    }
   ],
   "source": [
    "x= \"hi i love u\"\n",
    "y = x.split(\" \")\n",
    "y"
   ]
  },
  {
   "cell_type": "code",
   "execution_count": 49,
   "id": "7e416b40-fefd-43c1-b83e-487b5890cbac",
   "metadata": {},
   "outputs": [
    {
     "data": {
      "text/plain": [
       "[76, 89, 56, 2334, 56]"
      ]
     },
     "execution_count": 49,
     "metadata": {},
     "output_type": "execute_result"
    }
   ],
   "source": [
    "# slicing \n",
    "x=[76,89,56,2334,56]\n",
    "# to get all the elements in the list use:: nethod\n",
    "y= x[::]\n",
    "y\n"
   ]
  },
  {
   "cell_type": "code",
   "execution_count": 50,
   "id": "c713e499-f0f1-48cf-b58f-f7e0de4e1c5c",
   "metadata": {},
   "outputs": [
    {
     "data": {
      "text/plain": [
       "[76, 89, 56, 2334, 56]"
      ]
     },
     "execution_count": 50,
     "metadata": {},
     "output_type": "execute_result"
    }
   ],
   "source": [
    "y= x[0:len(x):1]\n",
    "y"
   ]
  },
  {
   "cell_type": "code",
   "execution_count": 51,
   "id": "d9b5096e-5c40-4d12-b722-bdc02cd75a45",
   "metadata": {},
   "outputs": [
    {
     "data": {
      "text/plain": [
       "[76, 56, 56]"
      ]
     },
     "execution_count": 51,
     "metadata": {},
     "output_type": "execute_result"
    }
   ],
   "source": [
    "y= x[0:len(x):2]\n",
    "y"
   ]
  },
  {
   "cell_type": "code",
   "execution_count": 53,
   "id": "79ef49cf-c912-4fd4-a04a-bb500211b315",
   "metadata": {},
   "outputs": [
    {
     "data": {
      "text/plain": [
       "2"
      ]
     },
     "execution_count": 53,
     "metadata": {},
     "output_type": "execute_result"
    }
   ],
   "source": [
    "# count of the list/ list frequency\n",
    "lst= [11,11,33,33,67,89]\n",
    "x=lst.count(11)\n",
    "x"
   ]
  },
  {
   "cell_type": "code",
   "execution_count": 54,
   "id": "167b98b1-1629-4160-8f46-96e9120264d3",
   "metadata": {},
   "outputs": [
    {
     "name": "stdout",
     "output_type": "stream",
     "text": [
      "11\n",
      "11\n",
      "33\n",
      "33\n",
      "67\n",
      "89\n"
     ]
    }
   ],
   "source": [
    "# looping the list\n",
    "lst= [11,11,33,33,67,89]\n",
    "for x in lst:\n",
    "    print(x)"
   ]
  },
  {
   "cell_type": "code",
   "execution_count": 55,
   "id": "26b21ce5-9dea-4776-9a16-43e98a133639",
   "metadata": {},
   "outputs": [
    {
     "data": {
      "text/plain": [
       "[11, 11, 33, 33, 67, 89]"
      ]
     },
     "execution_count": 55,
     "metadata": {},
     "output_type": "execute_result"
    }
   ],
   "source": [
    "x=lst[::]\n",
    "x"
   ]
  },
  {
   "cell_type": "code",
   "execution_count": 56,
   "id": "5316c477-793c-49eb-9c10-1b45d7f2d11f",
   "metadata": {},
   "outputs": [
    {
     "data": {
      "text/plain": [
       "[11, 11, 33, 33, 67, 89]"
      ]
     },
     "execution_count": 56,
     "metadata": {},
     "output_type": "execute_result"
    }
   ],
   "source": [
    "# list comprehension:\n",
    "lst= [11,11,33,33,67,89]\n",
    "a= [x for x in lst]\n",
    "a"
   ]
  },
  {
   "cell_type": "code",
   "execution_count": 57,
   "id": "c9113cc0-e313-4b46-abcb-8152a8301324",
   "metadata": {},
   "outputs": [
    {
     "data": {
      "text/plain": [
       "[121, 121, 1089, 1089, 4489, 7921]"
      ]
     },
     "execution_count": 57,
     "metadata": {},
     "output_type": "execute_result"
    }
   ],
   "source": [
    "lst= [11,11,33,33,67,89]\n",
    "#doble the elements in the list \n",
    "a= [x*x for x in lst]\n",
    "a"
   ]
  },
  {
   "cell_type": "code",
   "execution_count": 67,
   "id": "30933aae-cdab-4fe7-aee1-2cb7bae32028",
   "metadata": {},
   "outputs": [
    {
     "data": {
      "text/plain": [
       "[1, 27, 39304, 300763, 508169592]"
      ]
     },
     "execution_count": 67,
     "metadata": {},
     "output_type": "execute_result"
    }
   ],
   "source": [
    "lst= [1,3,34,67,798]\n",
    "a=[ x*x*x for x in lst]\n",
    "a"
   ]
  },
  {
   "cell_type": "raw",
   "id": "7295de24-01da-45c4-8654-aaa014c9845f",
   "metadata": {},
   "source": [
    "str= \" i love my son doni charvik\"\n",
    "vowels = \"aeiou\"\n",
    "a= [x for x in str if vowels in str]\n",
    "a"
   ]
  },
  {
   "cell_type": "code",
   "execution_count": 69,
   "id": "ed1cedbe-6f89-478b-b763-e3e9e1893412",
   "metadata": {},
   "outputs": [
    {
     "data": {
      "text/plain": [
       "'aeiou'"
      ]
     },
     "execution_count": 69,
     "metadata": {},
     "output_type": "execute_result"
    }
   ],
   "source": [
    "vowels= \"aeiou\"\n",
    "vowels"
   ]
  },
  {
   "cell_type": "code",
   "execution_count": 72,
   "id": "2c65747e-f49e-4696-a323-6b979593900a",
   "metadata": {},
   "outputs": [
    {
     "data": {
      "text/plain": [
       "['i', 'o', 'e', 'o', 'o', 'i', 'a', 'i']"
      ]
     },
     "execution_count": 72,
     "metadata": {},
     "output_type": "execute_result"
    }
   ],
   "source": [
    "str= \"i love my son doni charvik\"\n",
    "vowels = \"aeiou\"\n",
    "a= [x for x in str if x in vowels]\n",
    "a"
   ]
  },
  {
   "cell_type": "code",
   "execution_count": 73,
   "id": "1a4465d4-bb3a-40dd-929f-00385923d4c0",
   "metadata": {},
   "outputs": [
    {
     "data": {
      "text/plain": [
       "['i', 'o', 'e', 'o', 'o', 'i', 'a', 'i']"
      ]
     },
     "execution_count": 73,
     "metadata": {},
     "output_type": "execute_result"
    }
   ],
   "source": [
    "newlist=[x for x in str if x in vowels]\n",
    "newlist"
   ]
  },
  {
   "cell_type": "code",
   "execution_count": 75,
   "id": "4a10ef33-f2f2-44eb-b2ff-ab76a5918ef4",
   "metadata": {},
   "outputs": [
    {
     "data": {
      "text/plain": [
       "['i',\n",
       " ' ',\n",
       " 'l',\n",
       " 'o',\n",
       " 'v',\n",
       " 'e',\n",
       " ' ',\n",
       " 'm',\n",
       " 'y',\n",
       " ' ',\n",
       " 's',\n",
       " 'o',\n",
       " 'n',\n",
       " ' ',\n",
       " 'd',\n",
       " 'o',\n",
       " 'n',\n",
       " 'i',\n",
       " ' ',\n",
       " 'c',\n",
       " 'h',\n",
       " 'a',\n",
       " 'r',\n",
       " 'v',\n",
       " 'i',\n",
       " 'k']"
      ]
     },
     "execution_count": 75,
     "metadata": {},
     "output_type": "execute_result"
    }
   ],
   "source": [
    "str= \"i love my son doni charvik\"\n",
    "a=[ x for x in str if \"love\" in str]\n",
    "a"
   ]
  },
  {
   "cell_type": "code",
   "execution_count": 76,
   "id": "619c7a9b-b81f-41a5-b3e1-c6c885f8afcd",
   "metadata": {},
   "outputs": [
    {
     "data": {
      "text/plain": [
       "56"
      ]
     },
     "execution_count": 76,
     "metadata": {},
     "output_type": "execute_result"
    }
   ],
   "source": [
    "# unpacking a list: extracting those values into variables\n",
    "lst=[11,56,89]\n",
    "jdcj,gdh,kjd= lst\n",
    "gdh"
   ]
  },
  {
   "cell_type": "code",
   "execution_count": 78,
   "id": "c6d4f216-0e9c-43d2-ad02-54c0839b5920",
   "metadata": {},
   "outputs": [
    {
     "name": "stdout",
     "output_type": "stream",
     "text": [
      "apple jan\n",
      "banana feb\n",
      "cherry march\n"
     ]
    }
   ],
   "source": [
    "# zip function:\n",
    "fruits= [\"apple\",\"banana\",\"cherry\"]\n",
    "month=[\"jan\",\"feb\",\"march\"]\n",
    "for x,y in zip(fruits,month):\n",
    "    print(x,y)"
   ]
  },
  {
   "cell_type": "code",
   "execution_count": 79,
   "id": "dbbd5ff3-9706-4b9f-a640-f7dbc3f11af7",
   "metadata": {},
   "outputs": [
    {
     "data": {
      "text/plain": [
       "['__add__',\n",
       " '__class__',\n",
       " '__class_getitem__',\n",
       " '__contains__',\n",
       " '__delattr__',\n",
       " '__delitem__',\n",
       " '__dir__',\n",
       " '__doc__',\n",
       " '__eq__',\n",
       " '__format__',\n",
       " '__ge__',\n",
       " '__getattribute__',\n",
       " '__getitem__',\n",
       " '__getstate__',\n",
       " '__gt__',\n",
       " '__hash__',\n",
       " '__iadd__',\n",
       " '__imul__',\n",
       " '__init__',\n",
       " '__init_subclass__',\n",
       " '__iter__',\n",
       " '__le__',\n",
       " '__len__',\n",
       " '__lt__',\n",
       " '__mul__',\n",
       " '__ne__',\n",
       " '__new__',\n",
       " '__reduce__',\n",
       " '__reduce_ex__',\n",
       " '__repr__',\n",
       " '__reversed__',\n",
       " '__rmul__',\n",
       " '__setattr__',\n",
       " '__setitem__',\n",
       " '__sizeof__',\n",
       " '__str__',\n",
       " '__subclasshook__',\n",
       " 'append',\n",
       " 'clear',\n",
       " 'copy',\n",
       " 'count',\n",
       " 'extend',\n",
       " 'index',\n",
       " 'insert',\n",
       " 'pop',\n",
       " 'remove',\n",
       " 'reverse',\n",
       " 'sort']"
      ]
     },
     "execution_count": 79,
     "metadata": {},
     "output_type": "execute_result"
    }
   ],
   "source": [
    "# inspecting an object in list....... dir()method\n",
    "lst=[21,67,89,657]\n",
    "dir(lst)"
   ]
  },
  {
   "cell_type": "code",
   "execution_count": 85,
   "id": "57c3c5a7-09f8-43d8-a8ea-2c1fa64a78da",
   "metadata": {},
   "outputs": [],
   "source": [
    "# reverse a list\n",
    "lst=[22,78,780,6578]\n",
    "x=lst.reverse()\n",
    "x"
   ]
  },
  {
   "cell_type": "code",
   "execution_count": 86,
   "id": "8dce6423-15fa-4387-ba24-fbf749e7c174",
   "metadata": {},
   "outputs": [
    {
     "data": {
      "text/plain": [
       "[6578, 780, 78, 22]"
      ]
     },
     "execution_count": 86,
     "metadata": {},
     "output_type": "execute_result"
    }
   ],
   "source": [
    "# reverse a list in a single line using slicing\n",
    "lst=[22,78,780,6578]\n",
    "lst[::-1]"
   ]
  },
  {
   "cell_type": "code",
   "execution_count": 87,
   "id": "25c2db93-9f3b-458c-a002-54211cc05e92",
   "metadata": {},
   "outputs": [
    {
     "name": "stdout",
     "output_type": "stream",
     "text": [
      "6578\n",
      "780\n",
      "78\n",
      "22\n"
     ]
    }
   ],
   "source": [
    "# reversed iteration\n",
    "lst=[22,78,780,6578]\n",
    "for x in reversed(lst):\n",
    "    print(x)"
   ]
  },
  {
   "cell_type": "code",
   "execution_count": 89,
   "id": "07de19fb-4cb4-4b52-a046-1cb8563d90a0",
   "metadata": {},
   "outputs": [
    {
     "name": "stdout",
     "output_type": "stream",
     "text": [
      "6578\n",
      "780\n",
      "78\n",
      "22\n"
     ]
    }
   ],
   "source": [
    "for x in reversed(lst):\n",
    "    print(x)"
   ]
  },
  {
   "cell_type": "code",
   "execution_count": 90,
   "id": "44a84a30-54b7-400e-9d01-7b3635e7f86b",
   "metadata": {},
   "outputs": [
    {
     "data": {
      "text/plain": [
       "['__add__',\n",
       " '__class__',\n",
       " '__class_getitem__',\n",
       " '__contains__',\n",
       " '__delattr__',\n",
       " '__delitem__',\n",
       " '__dir__',\n",
       " '__doc__',\n",
       " '__eq__',\n",
       " '__format__',\n",
       " '__ge__',\n",
       " '__getattribute__',\n",
       " '__getitem__',\n",
       " '__getstate__',\n",
       " '__gt__',\n",
       " '__hash__',\n",
       " '__iadd__',\n",
       " '__imul__',\n",
       " '__init__',\n",
       " '__init_subclass__',\n",
       " '__iter__',\n",
       " '__le__',\n",
       " '__len__',\n",
       " '__lt__',\n",
       " '__mul__',\n",
       " '__ne__',\n",
       " '__new__',\n",
       " '__reduce__',\n",
       " '__reduce_ex__',\n",
       " '__repr__',\n",
       " '__reversed__',\n",
       " '__rmul__',\n",
       " '__setattr__',\n",
       " '__setitem__',\n",
       " '__sizeof__',\n",
       " '__str__',\n",
       " '__subclasshook__',\n",
       " 'append',\n",
       " 'clear',\n",
       " 'copy',\n",
       " 'count',\n",
       " 'extend',\n",
       " 'index',\n",
       " 'insert',\n",
       " 'pop',\n",
       " 'remove',\n",
       " 'reverse',\n",
       " 'sort']"
      ]
     },
     "execution_count": 90,
     "metadata": {},
     "output_type": "execute_result"
    }
   ],
   "source": [
    "lst=[22,78,780,6578]          # give s the list of attributes and methods of any object\n",
    "x= dir(lst)\n",
    "x"
   ]
  },
  {
   "cell_type": "code",
   "execution_count": 92,
   "id": "80e20ca5-1463-4d9a-8ccd-08fdad11c3d4",
   "metadata": {},
   "outputs": [
    {
     "data": {
      "text/plain": [
       "[33, 33, 33, 33]"
      ]
     },
     "execution_count": 92,
     "metadata": {},
     "output_type": "execute_result"
    }
   ],
   "source": [
    "# multiplying a number with 4 times\n",
    "[33]*4"
   ]
  },
  {
   "cell_type": "code",
   "execution_count": 93,
   "id": "a366ecb7-0f78-45cd-8478-4fd3638bff07",
   "metadata": {},
   "outputs": [
    {
     "data": {
      "text/plain": [
       "12"
      ]
     },
     "execution_count": 93,
     "metadata": {},
     "output_type": "execute_result"
    }
   ],
   "source": [
    "# swapping the first and last elements in the list:\n",
    "lst= [12,678,899,975,98]\n",
    "lst[0]\n",
    "x= lst[0]\n",
    "x"
   ]
  },
  {
   "cell_type": "code",
   "execution_count": 94,
   "id": "a04f5f4c-e9db-4db2-9eeb-e82dde7599fc",
   "metadata": {},
   "outputs": [
    {
     "data": {
      "text/plain": [
       "98"
      ]
     },
     "execution_count": 94,
     "metadata": {},
     "output_type": "execute_result"
    }
   ],
   "source": [
    "x= lst[-1]\n",
    "x"
   ]
  },
  {
   "cell_type": "code",
   "execution_count": 97,
   "id": "4d122679-7f6a-488e-bee9-a27a83cf8646",
   "metadata": {},
   "outputs": [
    {
     "data": {
      "text/plain": [
       "[98, 678, 899, 975, 12]"
      ]
     },
     "execution_count": 97,
     "metadata": {},
     "output_type": "execute_result"
    }
   ],
   "source": [
    "lst[0],lst[-1] = lst[-1],lst[0]\n",
    "lst"
   ]
  },
  {
   "cell_type": "code",
   "execution_count": 100,
   "id": "1eb117f9-c027-48b4-9190-4800b440b692",
   "metadata": {},
   "outputs": [
    {
     "data": {
      "text/plain": [
       "range(0, 10)"
      ]
     },
     "execution_count": 100,
     "metadata": {},
     "output_type": "execute_result"
    }
   ],
   "source": [
    "lst= range(10)\n",
    "lst"
   ]
  },
  {
   "cell_type": "code",
   "execution_count": null,
   "id": "3209fafe-c204-449b-bfd0-2bc2810f5f59",
   "metadata": {},
   "outputs": [],
   "source": [
    "for x in range(10):\n",
    "    print(x)"
   ]
  },
  {
   "cell_type": "code",
   "execution_count": null,
   "id": "768e000f-20f1-4243-b184-2604ee864fe4",
   "metadata": {},
   "outputs": [],
   "source": []
  }
 ],
 "metadata": {
  "kernelspec": {
   "display_name": "Python 3 (ipykernel)",
   "language": "python",
   "name": "python3"
  },
  "language_info": {
   "codemirror_mode": {
    "name": "ipython",
    "version": 3
   },
   "file_extension": ".py",
   "mimetype": "text/x-python",
   "name": "python",
   "nbconvert_exporter": "python",
   "pygments_lexer": "ipython3",
   "version": "3.12.7"
  }
 },
 "nbformat": 4,
 "nbformat_minor": 5
}
