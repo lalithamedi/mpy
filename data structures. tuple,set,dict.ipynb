{
 "cells": [
  {
   "cell_type": "code",
   "execution_count": 1,
   "id": "ba19bc15-01d7-494e-a70e-b52b43afe0aa",
   "metadata": {},
   "outputs": [
    {
     "data": {
      "text/plain": [
       "()"
      ]
     },
     "execution_count": 1,
     "metadata": {},
     "output_type": "execute_result"
    }
   ],
   "source": [
    "# empty tuple creation\n",
    "x= ()\n",
    "x"
   ]
  },
  {
   "cell_type": "code",
   "execution_count": 2,
   "id": "f60dff4d-26c9-4d2f-9bc3-a99bdf7570d0",
   "metadata": {},
   "outputs": [
    {
     "data": {
      "text/plain": [
       "()"
      ]
     },
     "execution_count": 2,
     "metadata": {},
     "output_type": "execute_result"
    }
   ],
   "source": [
    "x= tuple()\n",
    "x"
   ]
  },
  {
   "cell_type": "code",
   "execution_count": 3,
   "id": "25469f98-c6f8-4ce4-9c33-144b3a672276",
   "metadata": {},
   "outputs": [
    {
     "data": {
      "text/plain": [
       "tuple"
      ]
     },
     "execution_count": 3,
     "metadata": {},
     "output_type": "execute_result"
    }
   ],
   "source": [
    "type(x)"
   ]
  },
  {
   "cell_type": "code",
   "execution_count": 4,
   "id": "ab7005cd-6d3d-4374-976c-435377bd78d3",
   "metadata": {},
   "outputs": [
    {
     "data": {
      "text/plain": [
       "'gas'"
      ]
     },
     "execution_count": 4,
     "metadata": {},
     "output_type": "execute_result"
    }
   ],
   "source": [
    "tuple= (\"gas\",\"motor\",123,678,98)\n",
    "tuple[0]"
   ]
  },
  {
   "cell_type": "code",
   "execution_count": 5,
   "id": "544438d1-e9de-4bb8-88d7-825255041f4e",
   "metadata": {},
   "outputs": [
    {
     "data": {
      "text/plain": [
       "98"
      ]
     },
     "execution_count": 5,
     "metadata": {},
     "output_type": "execute_result"
    }
   ],
   "source": [
    "tuple[-1]"
   ]
  },
  {
   "cell_type": "code",
   "execution_count": 6,
   "id": "32e478f9-4377-4185-8068-41b17544971c",
   "metadata": {},
   "outputs": [
    {
     "ename": "TypeError",
     "evalue": "'tuple' object does not support item assignment",
     "output_type": "error",
     "traceback": [
      "\u001b[1;31m---------------------------------------------------------------------------\u001b[0m",
      "\u001b[1;31mTypeError\u001b[0m                                 Traceback (most recent call last)",
      "Cell \u001b[1;32mIn[6], line 1\u001b[0m\n\u001b[1;32m----> 1\u001b[0m \u001b[38;5;28mtuple\u001b[39m[\u001b[38;5;241m0\u001b[39m]\u001b[38;5;241m=\u001b[39m \u001b[38;5;124m\"\u001b[39m\u001b[38;5;124mstation\u001b[39m\u001b[38;5;124m\"\u001b[39m\n",
      "\u001b[1;31mTypeError\u001b[0m: 'tuple' object does not support item assignment"
     ]
    }
   ],
   "source": [
    "tuple[0]= \"station\""
   ]
  },
  {
   "cell_type": "code",
   "execution_count": 7,
   "id": "010c8c41-a5e3-409e-a9b2-01ce0fb753d3",
   "metadata": {},
   "outputs": [
    {
     "data": {
      "text/plain": [
       "2"
      ]
     },
     "execution_count": 7,
     "metadata": {},
     "output_type": "execute_result"
    }
   ],
   "source": [
    "# count\n",
    "tuple= (\"gas\",\"motor\",123,678,98,\"gas\")\n",
    "tuple.count(\"gas\")"
   ]
  },
  {
   "cell_type": "code",
   "execution_count": 8,
   "id": "fde62cd6-cce7-4f41-883b-9428244a598c",
   "metadata": {},
   "outputs": [
    {
     "ename": "TypeError",
     "evalue": "'tuple' object doesn't support item deletion",
     "output_type": "error",
     "traceback": [
      "\u001b[1;31m---------------------------------------------------------------------------\u001b[0m",
      "\u001b[1;31mTypeError\u001b[0m                                 Traceback (most recent call last)",
      "Cell \u001b[1;32mIn[8], line 3\u001b[0m\n\u001b[0;32m      1\u001b[0m \u001b[38;5;66;03m#delete\u001b[39;00m\n\u001b[0;32m      2\u001b[0m \u001b[38;5;28mtuple\u001b[39m\u001b[38;5;241m=\u001b[39m (\u001b[38;5;124m\"\u001b[39m\u001b[38;5;124mgas\u001b[39m\u001b[38;5;124m\"\u001b[39m,\u001b[38;5;124m\"\u001b[39m\u001b[38;5;124mmotor\u001b[39m\u001b[38;5;124m\"\u001b[39m,\u001b[38;5;241m123\u001b[39m,\u001b[38;5;241m678\u001b[39m,\u001b[38;5;241m98\u001b[39m)\n\u001b[1;32m----> 3\u001b[0m \u001b[38;5;28;01mdel\u001b[39;00m \u001b[38;5;28mtuple\u001b[39m[\u001b[38;5;241m1\u001b[39m]\n",
      "\u001b[1;31mTypeError\u001b[0m: 'tuple' object doesn't support item deletion"
     ]
    }
   ],
   "source": [
    "#delete\n",
    "tuple= (\"gas\",\"motor\",123,678,98)\n",
    "del tuple[1]"
   ]
  },
  {
   "cell_type": "code",
   "execution_count": 10,
   "id": "87544653-0e23-4955-a67b-cdcc2c51df2a",
   "metadata": {},
   "outputs": [
    {
     "ename": "NameError",
     "evalue": "name 'tuple' is not defined",
     "output_type": "error",
     "traceback": [
      "\u001b[1;31m---------------------------------------------------------------------------\u001b[0m",
      "\u001b[1;31mNameError\u001b[0m                                 Traceback (most recent call last)",
      "Cell \u001b[1;32mIn[10], line 1\u001b[0m\n\u001b[1;32m----> 1\u001b[0m \u001b[38;5;28;01mdel\u001b[39;00m \u001b[38;5;28mtuple\u001b[39m\n\u001b[0;32m      2\u001b[0m \u001b[38;5;28mtuple\u001b[39m\n",
      "\u001b[1;31mNameError\u001b[0m: name 'tuple' is not defined"
     ]
    }
   ],
   "source": [
    "del tuple\n",
    "tuple"
   ]
  },
  {
   "cell_type": "code",
   "execution_count": 11,
   "id": "b5ad5925-6d2d-4c3d-9a68-0763cfd83168",
   "metadata": {},
   "outputs": [
    {
     "ename": "AttributeError",
     "evalue": "'tuple' object has no attribute 'clear'",
     "output_type": "error",
     "traceback": [
      "\u001b[1;31m---------------------------------------------------------------------------\u001b[0m",
      "\u001b[1;31mAttributeError\u001b[0m                            Traceback (most recent call last)",
      "Cell \u001b[1;32mIn[11], line 3\u001b[0m\n\u001b[0;32m      1\u001b[0m \u001b[38;5;66;03m#clear\u001b[39;00m\n\u001b[0;32m      2\u001b[0m \u001b[38;5;28mtuple\u001b[39m\u001b[38;5;241m=\u001b[39m (\u001b[38;5;124m\"\u001b[39m\u001b[38;5;124mgas\u001b[39m\u001b[38;5;124m\"\u001b[39m,\u001b[38;5;124m\"\u001b[39m\u001b[38;5;124mmotor\u001b[39m\u001b[38;5;124m\"\u001b[39m,\u001b[38;5;241m123\u001b[39m,\u001b[38;5;241m678\u001b[39m,\u001b[38;5;241m98\u001b[39m)\n\u001b[1;32m----> 3\u001b[0m \u001b[38;5;28mtuple\u001b[39m\u001b[38;5;241m.\u001b[39mclear()\n",
      "\u001b[1;31mAttributeError\u001b[0m: 'tuple' object has no attribute 'clear'"
     ]
    }
   ],
   "source": [
    "#clear\n",
    "tuple= (\"gas\",\"motor\",123,678,98)\n",
    "tuple.clear()"
   ]
  },
  {
   "cell_type": "code",
   "execution_count": 12,
   "id": "176fc1e9-18fc-49bb-b7af-6d49c916d8e9",
   "metadata": {},
   "outputs": [
    {
     "data": {
      "text/plain": [
       "True"
      ]
     },
     "execution_count": 12,
     "metadata": {},
     "output_type": "execute_result"
    }
   ],
   "source": [
    "#tuple membership\n",
    "tuple= (\"gas\",\"motor\",123,678,98)\n",
    "123 in tuple\n"
   ]
  },
  {
   "cell_type": "code",
   "execution_count": 13,
   "id": "a4c6bb84-1dca-44c5-89e1-aa66ae991d7e",
   "metadata": {},
   "outputs": [
    {
     "data": {
      "text/plain": [
       "False"
      ]
     },
     "execution_count": 13,
     "metadata": {},
     "output_type": "execute_result"
    }
   ],
   "source": [
    "\"lalitha\" in tuple"
   ]
  },
  {
   "cell_type": "code",
   "execution_count": 14,
   "id": "2ab98f78-c6e6-4799-9e0d-0628444f8890",
   "metadata": {},
   "outputs": [
    {
     "data": {
      "text/plain": [
       "True"
      ]
     },
     "execution_count": 14,
     "metadata": {},
     "output_type": "execute_result"
    }
   ],
   "source": [
    "\"lalitha\" not in tuple"
   ]
  },
  {
   "cell_type": "code",
   "execution_count": 15,
   "id": "e8bf728b-ab34-41c3-9329-216f2e3364dc",
   "metadata": {},
   "outputs": [
    {
     "data": {
      "text/plain": [
       "5"
      ]
     },
     "execution_count": 15,
     "metadata": {},
     "output_type": "execute_result"
    }
   ],
   "source": [
    "# tuple length\n",
    "tuple= (\"gas\",\"motor\",123,678,98)\n",
    "x= len(tuple)\n",
    "x"
   ]
  },
  {
   "cell_type": "code",
   "execution_count": 18,
   "id": "b13c2778-5cde-4acf-aa7a-f858d0e0ae4b",
   "metadata": {},
   "outputs": [
    {
     "data": {
      "text/plain": [
       "'gas'"
      ]
     },
     "execution_count": 18,
     "metadata": {},
     "output_type": "execute_result"
    }
   ],
   "source": [
    "tuple= (\"gas\")\n",
    "tuple"
   ]
  },
  {
   "cell_type": "code",
   "execution_count": 19,
   "id": "a07e941d-0e6c-4e85-aabb-33141a6af0a5",
   "metadata": {},
   "outputs": [
    {
     "data": {
      "text/plain": [
       "str"
      ]
     },
     "execution_count": 19,
     "metadata": {},
     "output_type": "execute_result"
    }
   ],
   "source": [
    "type(tuple)"
   ]
  },
  {
   "cell_type": "code",
   "execution_count": 20,
   "id": "474aad38-a456-4c5f-b71d-347268d4e7a2",
   "metadata": {},
   "outputs": [
    {
     "data": {
      "text/plain": [
       "('gas',)"
      ]
     },
     "execution_count": 20,
     "metadata": {},
     "output_type": "execute_result"
    }
   ],
   "source": [
    "# to add a single item as a tuple add an , after it to make it as a tuple\n",
    "x = (\"gas\",)\n",
    "x"
   ]
  },
  {
   "cell_type": "code",
   "execution_count": 21,
   "id": "bff2fc3a-8c76-4727-a5fc-861d3e384358",
   "metadata": {},
   "outputs": [
    {
     "data": {
      "text/plain": [
       "tuple"
      ]
     },
     "execution_count": 21,
     "metadata": {},
     "output_type": "execute_result"
    }
   ],
   "source": [
    "type(x)"
   ]
  },
  {
   "cell_type": "code",
   "execution_count": 23,
   "id": "3a748852-5c8b-48b2-b098-0fcf2f30b081",
   "metadata": {},
   "outputs": [
    {
     "data": {
      "text/plain": [
       "('motor', 123, 678, 98)"
      ]
     },
     "execution_count": 23,
     "metadata": {},
     "output_type": "execute_result"
    }
   ],
   "source": [
    "# range of indexes:\n",
    "tuple= (\"gas\",\"motor\",123,678,98)\n",
    "#access the elements from 2 and 5 \n",
    "x= tuple[1:5]\n",
    "x"
   ]
  },
  {
   "cell_type": "code",
   "execution_count": 27,
   "id": "fc61a908-9167-4c35-a900-850778bc8386",
   "metadata": {},
   "outputs": [
    {
     "data": {
      "text/plain": [
       "('motor',)"
      ]
     },
     "execution_count": 27,
     "metadata": {},
     "output_type": "execute_result"
    }
   ],
   "source": [
    "\n",
    "x= tuple[-4:-3]\n",
    "x"
   ]
  },
  {
   "cell_type": "code",
   "execution_count": 2,
   "id": "10abad29-9b02-4211-9164-c9a427c43707",
   "metadata": {},
   "outputs": [
    {
     "data": {
      "text/plain": [
       "('gas', 'motor', 123, 678, 98, 'lalitha')"
      ]
     },
     "execution_count": 2,
     "metadata": {},
     "output_type": "execute_result"
    }
   ],
   "source": [
    "# tuples are unchangeable/ immutable.... so convert to list make changes and convert back\n",
    "thistuple= (\"gas\",\"motor\",123,678,98)\n",
    "# add \"lalitha\"                                           correct but server showing error\n",
    "x=list(thistuple)\n",
    "x.append(\"lalitha\")\n",
    "thistuple= tuple(x)\n",
    "thistuple"
   ]
  },
  {
   "cell_type": "code",
   "execution_count": 39,
   "id": "ea0f9d06-92d3-4ec7-8881-2e863f59b07a",
   "metadata": {},
   "outputs": [
    {
     "data": {
      "text/plain": [
       "('apple', 'banana', 'cherry', 'orange')"
      ]
     },
     "execution_count": 39,
     "metadata": {},
     "output_type": "execute_result"
    }
   ],
   "source": [
    "# add tuple to a tuple\n",
    "thistuple = (\"apple\", \"banana\", \"cherry\")\n",
    "y = (\"orange\",)\n",
    "thistuple += y\n",
    "thistuple"
   ]
  },
  {
   "cell_type": "code",
   "execution_count": 1,
   "id": "8722c050-fd0f-423e-9fd7-efbf9cffc7fc",
   "metadata": {},
   "outputs": [
    {
     "name": "stdout",
     "output_type": "stream",
     "text": [
      "('apple', 'mango', 'cherry')\n"
     ]
    }
   ],
   "source": [
    "thistuple = (\"apple\", \"banana\", \"cherry\")\n",
    "x= list(thistuple)\n",
    "x[1] = \"mango\"\n",
    "thistuple= tuple(x)\n",
    "print(thistuple)\n",
    "\n"
   ]
  },
  {
   "cell_type": "code",
   "execution_count": 5,
   "id": "cc649779-b138-43f9-b866-5c6336c2c080",
   "metadata": {},
   "outputs": [
    {
     "name": "stdout",
     "output_type": "stream",
     "text": [
      "apple banana cherry\n"
     ]
    }
   ],
   "source": [
    "fruits= (\"apple\", \"banana\", \"cherry\")              # unpacking\n",
    "(red,blue,green) = fruits\n",
    "print(red,blue,green)"
   ]
  },
  {
   "cell_type": "code",
   "execution_count": 6,
   "id": "afb592f3-a7fd-48f5-97eb-5bbfb5698436",
   "metadata": {},
   "outputs": [
    {
     "name": "stdout",
     "output_type": "stream",
     "text": [
      "apple\n"
     ]
    }
   ],
   "source": [
    "print(red)"
   ]
  },
  {
   "cell_type": "code",
   "execution_count": 7,
   "id": "c10686af-cc43-43b3-a0c0-9234f43e30ca",
   "metadata": {},
   "outputs": [
    {
     "name": "stdout",
     "output_type": "stream",
     "text": [
      "['banana', 'cherry']\n"
     ]
    }
   ],
   "source": [
    "fruits= (\"apple\", \"banana\", \"cherry\")              # as a list\n",
    "(red,*green) = fruits\n",
    "print(green)"
   ]
  },
  {
   "cell_type": "code",
   "execution_count": 9,
   "id": "e06f9170-8cb5-4fd1-85db-7b514c75880f",
   "metadata": {},
   "outputs": [
    {
     "name": "stdout",
     "output_type": "stream",
     "text": [
      "apple\n",
      "banana\n",
      "cherry\n"
     ]
    }
   ],
   "source": [
    "# loop through all items referring to index no\n",
    "thistuple = (\"apple\", \"banana\", \"cherry\")\n",
    "for x in range(len(thistuple)):\n",
    "    print(thistuple[x])"
   ]
  },
  {
   "cell_type": "code",
   "execution_count": 10,
   "id": "41a14a86-3647-41c5-9aaa-9799fc19f739",
   "metadata": {},
   "outputs": [
    {
     "name": "stdout",
     "output_type": "stream",
     "text": [
      "apple\n",
      "banana\n",
      "cherry\n"
     ]
    }
   ],
   "source": [
    "# using while loop\n",
    "thistuple = (\"apple\", \"banana\", \"cherry\")\n",
    "i=0\n",
    "while i< len(thistuple):\n",
    "    print(thistuple[i])\n",
    "    i+=1"
   ]
  },
  {
   "cell_type": "code",
   "execution_count": 11,
   "id": "1239f950-4eb2-48a9-9c0b-e42f8db58bf3",
   "metadata": {},
   "outputs": [
    {
     "data": {
      "text/plain": [
       "('apple', 'banana', 'cherry', 'man')"
      ]
     },
     "execution_count": 11,
     "metadata": {},
     "output_type": "execute_result"
    }
   ],
   "source": [
    "# join 2 tuples\n",
    "thistuple = (\"apple\", \"banana\", \"cherry\")\n",
    "y = (\"man\",)\n",
    "x= thistuple +y\n",
    "x"
   ]
  },
  {
   "cell_type": "code",
   "execution_count": 14,
   "id": "8bf84fb4-6fa0-40d8-9753-4f7d49398de7",
   "metadata": {},
   "outputs": [
    {
     "name": "stdout",
     "output_type": "stream",
     "text": [
      "('man',)\n"
     ]
    }
   ],
   "source": [
    "# multiply\n",
    "y = (\"man\",)\n",
    "y*2\n",
    "print(y)"
   ]
  },
  {
   "cell_type": "code",
   "execution_count": 19,
   "id": "1a99425f-113d-4f96-9bd8-19615ce70011",
   "metadata": {},
   "outputs": [
    {
     "data": {
      "text/plain": [
       "'\\nlist have homogenous values (all values are similar)\\n    sort.... sort()   asc\\n              sort(reverse=True)..... desc\\ntuple have heterogenous values (all values are different)\\n    sort..... sorted(x)....asc\\n            sorted(x,reverse=True)... desc\\n'"
      ]
     },
     "execution_count": 19,
     "metadata": {},
     "output_type": "execute_result"
    }
   ],
   "source": [
    "# difference b/w list and tuple....\n",
    "'''\n",
    "list have homogenous values (all values are similar)\n",
    "    sort.... sort()   asc\n",
    "              sort(reverse=True)..... desc\n",
    "tuple have heterogenous values (all values are different)\n",
    "    sort..... sorted(x)....asc\n",
    "            sorted(x,reverse=True)... desc\n",
    "'''"
   ]
  },
  {
   "cell_type": "code",
   "execution_count": 16,
   "id": "b1bf8a8a-18bd-4b58-b7f0-b1945cf2f557",
   "metadata": {},
   "outputs": [
    {
     "data": {
      "text/plain": [
       "[11, 23, 67, 987]"
      ]
     },
     "execution_count": 16,
     "metadata": {},
     "output_type": "execute_result"
    }
   ],
   "source": [
    "tuple = (11,23,67,987)\n",
    "x= sorted(tuple)\n",
    "x"
   ]
  },
  {
   "cell_type": "code",
   "execution_count": 20,
   "id": "bc839642-ceea-4601-b1e0-a90d206d61f2",
   "metadata": {},
   "outputs": [
    {
     "data": {
      "text/plain": [
       "[987, 67, 23, 11]"
      ]
     },
     "execution_count": 20,
     "metadata": {},
     "output_type": "execute_result"
    }
   ],
   "source": [
    "x= sorted(tuple,reverse=True)\n",
    "x"
   ]
  },
  {
   "cell_type": "code",
   "execution_count": null,
   "id": "0894c03a-e25e-4967-a583-379209f73f9a",
   "metadata": {},
   "outputs": [],
   "source": [
    "\n",
    "\n"
   ]
  },
  {
   "cell_type": "code",
   "execution_count": 21,
   "id": "1c16af30-1c14-44cf-8080-060f4cf52c00",
   "metadata": {},
   "outputs": [
    {
     "data": {
      "text/plain": [
       "{}"
      ]
     },
     "execution_count": 21,
     "metadata": {},
     "output_type": "execute_result"
    }
   ],
   "source": [
    "#    set \n",
    "# empty set creation\n",
    "set= {}\n",
    "set"
   ]
  },
  {
   "cell_type": "code",
   "execution_count": 1,
   "id": "c9c0e622-d358-4961-a6bd-9791ec5f2bda",
   "metadata": {},
   "outputs": [
    {
     "data": {
      "text/plain": [
       "set()"
      ]
     },
     "execution_count": 1,
     "metadata": {},
     "output_type": "execute_result"
    }
   ],
   "source": [
    "x = set()\n",
    "x"
   ]
  },
  {
   "cell_type": "code",
   "execution_count": 2,
   "id": "b16cdcb9-5dc4-4dbc-a962-879535984c97",
   "metadata": {},
   "outputs": [
    {
     "data": {
      "text/plain": [
       "set"
      ]
     },
     "execution_count": 2,
     "metadata": {},
     "output_type": "execute_result"
    }
   ],
   "source": [
    "type(x)"
   ]
  },
  {
   "cell_type": "code",
   "execution_count": 3,
   "id": "5d1ef1df-e585-47a0-a97e-553e10315f29",
   "metadata": {},
   "outputs": [
    {
     "data": {
      "text/plain": [
       "{11, 22, 33}"
      ]
     },
     "execution_count": 3,
     "metadata": {},
     "output_type": "execute_result"
    }
   ],
   "source": [
    "set= {11,22,33,33,33,22}     # no duplicates are allowed. dont throw error but duplicates are ignored\n",
    "set"
   ]
  },
  {
   "cell_type": "code",
   "execution_count": 4,
   "id": "e60f37a0-119c-4046-9cb3-c67037c4a4e8",
   "metadata": {},
   "outputs": [
    {
     "data": {
      "text/plain": [
       "3"
      ]
     },
     "execution_count": 4,
     "metadata": {},
     "output_type": "execute_result"
    }
   ],
   "source": [
    "# true and 1 are considered as same\n",
    "# false and 0 are same\n",
    "thisset = {\"apple\", \"banana\", \"cherry\"}\n",
    "x= len(thisset)\n",
    "x"
   ]
  },
  {
   "cell_type": "code",
   "execution_count": 5,
   "id": "cd6e50c2-4ab3-4ca5-98bf-03f6141ea69a",
   "metadata": {},
   "outputs": [
    {
     "name": "stdout",
     "output_type": "stream",
     "text": [
      "cherry\n",
      "apple\n",
      "banana\n"
     ]
    }
   ],
   "source": [
    "thisset = {\"apple\", \"banana\", \"cherry\"}\n",
    "for x in thisset:\n",
    "    print(x)"
   ]
  },
  {
   "cell_type": "code",
   "execution_count": 6,
   "id": "e759fa21-a115-4781-a15a-ba424299bafc",
   "metadata": {},
   "outputs": [
    {
     "name": "stdout",
     "output_type": "stream",
     "text": [
      "yes\n"
     ]
    }
   ],
   "source": [
    "if \"apple\" in thisset:\n",
    "    print(\"yes\")"
   ]
  },
  {
   "cell_type": "code",
   "execution_count": 7,
   "id": "ee0a114a-adcd-4998-acbb-2b8e1dd30240",
   "metadata": {},
   "outputs": [
    {
     "data": {
      "text/plain": [
       "{'apple', 'ball', 'banana', 'cherry'}"
      ]
     },
     "execution_count": 7,
     "metadata": {},
     "output_type": "execute_result"
    }
   ],
   "source": [
    "#add elements\n",
    "thisset = {\"apple\", \"banana\", \"cherry\"}\n",
    "thisset.add(\"ball\")\n",
    "thisset"
   ]
  },
  {
   "cell_type": "code",
   "execution_count": 8,
   "id": "e1ee6ea6-eea5-41b6-ac85-b926529ef45e",
   "metadata": {},
   "outputs": [
    {
     "ename": "TypeError",
     "evalue": "set.add() takes exactly one argument (2 given)",
     "output_type": "error",
     "traceback": [
      "\u001b[1;31m---------------------------------------------------------------------------\u001b[0m",
      "\u001b[1;31mTypeError\u001b[0m                                 Traceback (most recent call last)",
      "Cell \u001b[1;32mIn[8], line 1\u001b[0m\n\u001b[1;32m----> 1\u001b[0m thisset\u001b[38;5;241m.\u001b[39madd(\u001b[38;5;124m\"\u001b[39m\u001b[38;5;124mball\u001b[39m\u001b[38;5;124m\"\u001b[39m,\u001b[38;5;124m\"\u001b[39m\u001b[38;5;124mmango\u001b[39m\u001b[38;5;124m\"\u001b[39m)\n\u001b[0;32m      2\u001b[0m thisset\n",
      "\u001b[1;31mTypeError\u001b[0m: set.add() takes exactly one argument (2 given)"
     ]
    }
   ],
   "source": [
    "thisset.add(\"ball\",\"mango\")\n",
    "thisset"
   ]
  },
  {
   "cell_type": "code",
   "execution_count": 9,
   "id": "ddaf4411-40de-448c-8433-9db23f23165d",
   "metadata": {},
   "outputs": [
    {
     "data": {
      "text/plain": [
       "{'and', 'apple', 'banana', 'cherry', 'men'}"
      ]
     },
     "execution_count": 9,
     "metadata": {},
     "output_type": "execute_result"
    }
   ],
   "source": [
    "# to add more than 1 items use update method\n",
    "thisset = {\"apple\", \"banana\", \"cherry\"}\n",
    "u= {\"and\", \"men\"}\n",
    "thisset.update(u)\n",
    "thisset"
   ]
  },
  {
   "cell_type": "code",
   "execution_count": 10,
   "id": "38e3e58b-60ee-4de7-9e2e-00a300385a4a",
   "metadata": {},
   "outputs": [
    {
     "data": {
      "text/plain": [
       "{'and', 'apple', 'banana', 'cherry', 'men'}"
      ]
     },
     "execution_count": 10,
     "metadata": {},
     "output_type": "execute_result"
    }
   ],
   "source": [
    "thisset = {\"apple\", \"banana\", \"cherry\"}\n",
    "u= [\"and\", \"men\"]\n",
    "thisset.update(u)\n",
    "thisset"
   ]
  },
  {
   "cell_type": "code",
   "execution_count": 11,
   "id": "534e22ab-a85d-4cd1-a4e2-c4e54c6db614",
   "metadata": {},
   "outputs": [
    {
     "data": {
      "text/plain": [
       "{'banana', 'cherry'}"
      ]
     },
     "execution_count": 11,
     "metadata": {},
     "output_type": "execute_result"
    }
   ],
   "source": [
    "# remove\n",
    "thisset = {\"apple\", \"banana\", \"cherry\"}\n",
    "thisset.remove(\"apple\")\n",
    "thisset"
   ]
  },
  {
   "cell_type": "code",
   "execution_count": 12,
   "id": "2c124e71-8b10-4f21-b4b9-a0cae670950d",
   "metadata": {},
   "outputs": [
    {
     "ename": "KeyError",
     "evalue": "'ball'",
     "output_type": "error",
     "traceback": [
      "\u001b[1;31m---------------------------------------------------------------------------\u001b[0m",
      "\u001b[1;31mKeyError\u001b[0m                                  Traceback (most recent call last)",
      "Cell \u001b[1;32mIn[12], line 1\u001b[0m\n\u001b[1;32m----> 1\u001b[0m thisset\u001b[38;5;241m.\u001b[39mremove(\u001b[38;5;124m\"\u001b[39m\u001b[38;5;124mball\u001b[39m\u001b[38;5;124m\"\u001b[39m)\n\u001b[0;32m      2\u001b[0m thisset\n",
      "\u001b[1;31mKeyError\u001b[0m: 'ball'"
     ]
    }
   ],
   "source": [
    "thisset.remove(\"ball\")\n",
    "thisset"
   ]
  },
  {
   "cell_type": "code",
   "execution_count": 13,
   "id": "deeae3b0-02b0-40c9-99b3-769d18f35326",
   "metadata": {},
   "outputs": [
    {
     "data": {
      "text/plain": [
       "{'banana', 'cherry'}"
      ]
     },
     "execution_count": 13,
     "metadata": {},
     "output_type": "execute_result"
    }
   ],
   "source": [
    "# to prevent error use discard \n",
    "thisset.discard(\"apple\")\n",
    "thisset"
   ]
  },
  {
   "cell_type": "code",
   "execution_count": 14,
   "id": "7bacd6ed-358f-4529-8e47-476348734301",
   "metadata": {},
   "outputs": [
    {
     "data": {
      "text/plain": [
       "{'banana'}"
      ]
     },
     "execution_count": 14,
     "metadata": {},
     "output_type": "execute_result"
    }
   ],
   "source": [
    "thisset.pop()\n",
    "thisset"
   ]
  },
  {
   "cell_type": "code",
   "execution_count": 15,
   "id": "d91d2f8b-5dd4-4623-b9f9-6b51820af9f2",
   "metadata": {},
   "outputs": [
    {
     "data": {
      "text/plain": [
       "set()"
      ]
     },
     "execution_count": 15,
     "metadata": {},
     "output_type": "execute_result"
    }
   ],
   "source": [
    "thisset.clear()\n",
    "thisset"
   ]
  },
  {
   "cell_type": "code",
   "execution_count": 17,
   "id": "2fa34f24-eeec-4d77-887d-6f14f0ef52a2",
   "metadata": {},
   "outputs": [
    {
     "ename": "NameError",
     "evalue": "name 'thisset' is not defined",
     "output_type": "error",
     "traceback": [
      "\u001b[1;31m---------------------------------------------------------------------------\u001b[0m",
      "\u001b[1;31mNameError\u001b[0m                                 Traceback (most recent call last)",
      "Cell \u001b[1;32mIn[17], line 1\u001b[0m\n\u001b[1;32m----> 1\u001b[0m \u001b[38;5;28;01mdel\u001b[39;00m thisset\n\u001b[0;32m      2\u001b[0m thisset\n",
      "\u001b[1;31mNameError\u001b[0m: name 'thisset' is not defined"
     ]
    }
   ],
   "source": [
    "del thisset\n",
    "thisset"
   ]
  },
  {
   "cell_type": "code",
   "execution_count": 19,
   "id": "2c61d2c5-fed5-4f9c-9048-50895ebcb13e",
   "metadata": {},
   "outputs": [
    {
     "data": {
      "text/plain": [
       "{'amy', 'apple', 'banana', 'cherry', 'many'}"
      ]
     },
     "execution_count": 19,
     "metadata": {},
     "output_type": "execute_result"
    }
   ],
   "source": [
    "thisset = {\"apple\", \"banana\", \"cherry\"}\n",
    "y= {\"amy\",\"many\"}\n",
    "x=thisset.union(y)\n",
    "thisset\n",
    "x"
   ]
  },
  {
   "cell_type": "code",
   "execution_count": 20,
   "id": "8a3528fc-adc0-46fb-80b3-3f5a9fc8d9be",
   "metadata": {},
   "outputs": [
    {
     "data": {
      "text/plain": [
       "{'amy', 'apple', 'banana', 'cherry', 'many'}"
      ]
     },
     "execution_count": 20,
     "metadata": {},
     "output_type": "execute_result"
    }
   ],
   "source": [
    "x = thisset | y\n",
    "x"
   ]
  },
  {
   "cell_type": "code",
   "execution_count": 21,
   "id": "67f15dd5-f82d-43e8-8c9e-936ae8cad92d",
   "metadata": {},
   "outputs": [
    {
     "data": {
      "text/plain": [
       "{'apple'}"
      ]
     },
     "execution_count": 21,
     "metadata": {},
     "output_type": "execute_result"
    }
   ],
   "source": [
    "# get only duplicates:\n",
    "x = {\"apple\", \"banana\", \"cherry\"}\n",
    "y = {\"google\", \"microsoft\", \"apple\"}\n",
    "\n",
    "z= x.intersection(y)       # or z= x & y\n",
    "z"
   ]
  },
  {
   "cell_type": "code",
   "execution_count": 22,
   "id": "71b0dfe0-f6bd-46ad-9fd4-b8bcb2c5f373",
   "metadata": {},
   "outputs": [
    {
     "data": {
      "text/plain": [
       "{'banana', 'cherry'}"
      ]
     },
     "execution_count": 22,
     "metadata": {},
     "output_type": "execute_result"
    }
   ],
   "source": [
    "# gets only the items in the set1 but not the set2 and eliminating the duplicates in set1\n",
    "z = x.difference(y)                  # x - y\n",
    "z"
   ]
  },
  {
   "cell_type": "code",
   "execution_count": 23,
   "id": "1848446c-caab-4123-980b-eb24b0f48aed",
   "metadata": {},
   "outputs": [
    {
     "data": {
      "text/plain": [
       "{'banana', 'cherry', 'google', 'microsoft'}"
      ]
     },
     "execution_count": 23,
     "metadata": {},
     "output_type": "execute_result"
    }
   ],
   "source": [
    "# gets all the values in both sets without duplicates\n",
    "z= x.symmetric_difference(y)             #  x^ y\n",
    "z"
   ]
  },
  {
   "cell_type": "code",
   "execution_count": 28,
   "id": "c730818f-9316-416b-af2c-b6f4fb4c9a66",
   "metadata": {},
   "outputs": [
    {
     "data": {
      "text/plain": [
       "1964"
      ]
     },
     "execution_count": 28,
     "metadata": {},
     "output_type": "execute_result"
    }
   ],
   "source": [
    "#      dict\n",
    "x = {\n",
    "  \"brand\": \"Ford\",\n",
    "  \"model\": \"Mustang\",\n",
    "  \"year\": 1964\n",
    "}\n",
    "z= x[\"year\"]\n",
    "z"
   ]
  },
  {
   "cell_type": "code",
   "execution_count": 29,
   "id": "20f2f8cc-683a-4530-a1cb-d19f99810f9a",
   "metadata": {},
   "outputs": [
    {
     "data": {
      "text/plain": [
       "dict_keys(['brand', 'model', 'year'])"
      ]
     },
     "execution_count": 29,
     "metadata": {},
     "output_type": "execute_result"
    }
   ],
   "source": [
    "a = x.keys()\n",
    "a"
   ]
  },
  {
   "cell_type": "code",
   "execution_count": 30,
   "id": "5c8095af-5855-4762-91b2-578f6fd0df46",
   "metadata": {},
   "outputs": [
    {
     "data": {
      "text/plain": [
       "dict_values(['Ford', 'Mustang', 1964])"
      ]
     },
     "execution_count": 30,
     "metadata": {},
     "output_type": "execute_result"
    }
   ],
   "source": [
    "a = x.values()\n",
    "a"
   ]
  },
  {
   "cell_type": "code",
   "execution_count": 31,
   "id": "e5183838-e52c-4e0f-a4f1-f3a070a87039",
   "metadata": {},
   "outputs": [
    {
     "data": {
      "text/plain": [
       "dict_items([('brand', 'Ford'), ('model', 'Mustang'), ('year', 1964)])"
      ]
     },
     "execution_count": 31,
     "metadata": {},
     "output_type": "execute_result"
    }
   ],
   "source": [
    "a= x.items()\n",
    "a"
   ]
  },
  {
   "cell_type": "code",
   "execution_count": 32,
   "id": "d3050ed7-ae3e-4917-8e00-d6162a434692",
   "metadata": {},
   "outputs": [
    {
     "data": {
      "text/plain": [
       "'Mustang'"
      ]
     },
     "execution_count": 32,
     "metadata": {},
     "output_type": "execute_result"
    }
   ],
   "source": [
    "a = x.get(\"model\")\n",
    "a"
   ]
  },
  {
   "cell_type": "code",
   "execution_count": 34,
   "id": "6cbbb460-677e-4ae2-ac14-a7c8efe69649",
   "metadata": {},
   "outputs": [
    {
     "data": {
      "text/plain": [
       "{'brand': 'Ford', 'model': 'Mustang', 'year': 1964, 'color': 'red'}"
      ]
     },
     "execution_count": 34,
     "metadata": {},
     "output_type": "execute_result"
    }
   ],
   "source": [
    "x[\"color\"] = \"red\"\n",
    "x\n"
   ]
  },
  {
   "cell_type": "code",
   "execution_count": 35,
   "id": "7486be57-3146-4cf5-b3b6-79b41ede57f9",
   "metadata": {},
   "outputs": [
    {
     "data": {
      "text/plain": [
       "{'brand': 'Ford', 'model': 'Mustang', 'year': 2025, 'color': 'red'}"
      ]
     },
     "execution_count": 35,
     "metadata": {},
     "output_type": "execute_result"
    }
   ],
   "source": [
    "x[\"year\"]= 2025\n",
    "x"
   ]
  },
  {
   "cell_type": "code",
   "execution_count": 36,
   "id": "98c6d331-d486-49fb-bca7-0f6114bb4f43",
   "metadata": {},
   "outputs": [
    {
     "data": {
      "text/plain": [
       "{'brand': 'Ford', 'model': 'Mustang', 'year': 2025, 'color': 'blue'}"
      ]
     },
     "execution_count": 36,
     "metadata": {},
     "output_type": "execute_result"
    }
   ],
   "source": [
    "x.update({\"color\":\"blue\"})\n",
    "x"
   ]
  },
  {
   "cell_type": "code",
   "execution_count": 37,
   "id": "1681619c-94e6-4cbb-a31e-d586006f76bd",
   "metadata": {},
   "outputs": [
    {
     "data": {
      "text/plain": [
       "{'brand': 'Ford', 'year': 2025, 'color': 'blue'}"
      ]
     },
     "execution_count": 37,
     "metadata": {},
     "output_type": "execute_result"
    }
   ],
   "source": [
    "# remove\n",
    "# pop removes specified item\n",
    "x.pop(\"model\")\n",
    "x"
   ]
  },
  {
   "cell_type": "code",
   "execution_count": 38,
   "id": "85b074e4-e7fe-48ea-88f6-04a2dc0ca7b8",
   "metadata": {},
   "outputs": [
    {
     "data": {
      "text/plain": [
       "{'brand': 'Ford', 'year': 2025}"
      ]
     },
     "execution_count": 38,
     "metadata": {},
     "output_type": "execute_result"
    }
   ],
   "source": [
    "# popitem removes last inserted item\n",
    "x.popitem()\n",
    "x"
   ]
  },
  {
   "cell_type": "code",
   "execution_count": 40,
   "id": "1a848a96-f3b6-4ef9-b8be-e4589c80afcf",
   "metadata": {},
   "outputs": [
    {
     "name": "stdout",
     "output_type": "stream",
     "text": [
      "brand\n",
      "model\n",
      "year\n"
     ]
    }
   ],
   "source": [
    "# looping\n",
    "\n",
    "z = {\n",
    "  \"brand\": \"Ford\",\n",
    "  \"model\": \"Mustang\",\n",
    "  \"year\": 1964\n",
    "}\n",
    "for x in z.keys():\n",
    "     print(x)"
   ]
  },
  {
   "cell_type": "code",
   "execution_count": 42,
   "id": "d95beecb-f000-42dc-8cd8-878a68281294",
   "metadata": {},
   "outputs": [
    {
     "name": "stdout",
     "output_type": "stream",
     "text": [
      "Ford\n",
      "Mustang\n",
      "1964\n"
     ]
    }
   ],
   "source": [
    "for x in z.values():\n",
    "    print(x)"
   ]
  },
  {
   "cell_type": "code",
   "execution_count": 43,
   "id": "96fc370b-038c-498e-ad8f-ccb47c1f2873",
   "metadata": {},
   "outputs": [
    {
     "name": "stdout",
     "output_type": "stream",
     "text": [
      "brand Ford\n",
      "model Mustang\n",
      "year 1964\n"
     ]
    }
   ],
   "source": [
    "for x,y in z.items():\n",
    "    print(x,y)"
   ]
  },
  {
   "cell_type": "code",
   "execution_count": 44,
   "id": "25964c8b-6e1a-45c2-a17b-07bdc6b098df",
   "metadata": {},
   "outputs": [
    {
     "data": {
      "text/plain": [
       "{'brand': 'Ford', 'model': 'Mustang', 'year': 1964}"
      ]
     },
     "execution_count": 44,
     "metadata": {},
     "output_type": "execute_result"
    }
   ],
   "source": [
    "# copy\n",
    "x = {\n",
    "  \"brand\": \"Ford\",\n",
    "  \"model\": \"Mustang\",\n",
    "  \"year\": 1964\n",
    "}\n",
    "\n",
    "z= x.copy()\n",
    "z"
   ]
  },
  {
   "cell_type": "code",
   "execution_count": 45,
   "id": "87810802-ebef-4b7a-aa28-444130dada57",
   "metadata": {},
   "outputs": [
    {
     "data": {
      "text/plain": [
       "{'brand': 'Ford', 'model': 'Mustang', 'year': 1964}"
      ]
     },
     "execution_count": 45,
     "metadata": {},
     "output_type": "execute_result"
    }
   ],
   "source": [
    "z= dict(x)\n",
    "z"
   ]
  },
  {
   "cell_type": "code",
   "execution_count": null,
   "id": "514ca361-90b3-42c1-a873-900c004c052a",
   "metadata": {},
   "outputs": [],
   "source": [
    "# questions:\n",
    "l= [\"apple\",\"banana\",\"cherry\",\"dog\"]\n",
    "x= [\"monkey\",\"money\"]\n",
    "a=l.extend(x)\n",
    "a\n"
   ]
  }
 ],
 "metadata": {
  "kernelspec": {
   "display_name": "Python 3 (ipykernel)",
   "language": "python",
   "name": "python3"
  },
  "language_info": {
   "codemirror_mode": {
    "name": "ipython",
    "version": 3
   },
   "file_extension": ".py",
   "mimetype": "text/x-python",
   "name": "python",
   "nbconvert_exporter": "python",
   "pygments_lexer": "ipython3",
   "version": "3.12.7"
  }
 },
 "nbformat": 4,
 "nbformat_minor": 5
}
